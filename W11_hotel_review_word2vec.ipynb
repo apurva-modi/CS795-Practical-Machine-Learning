{
 "cells": [
  {
   "cell_type": "markdown",
   "metadata": {},
   "source": [
    "# Word2vec on hotel review data\n",
    "The review data file can be downloaded from\n",
    "https://github.com/kavgan/nlp-in-practice/blob/master/word2vec/reviews_data.txt.gz"
   ]
  },
  {
   "cell_type": "code",
   "execution_count": 1,
   "metadata": {},
   "outputs": [],
   "source": [
    "import gzip\n",
    "import gensim\n",
    "import logging\n",
    "import os\n",
    "import pandas as pd"
   ]
  },
  {
   "cell_type": "code",
   "execution_count": 2,
   "metadata": {},
   "outputs": [],
   "source": [
    "logging.basicConfig(\n",
    "    format='%(asctime)s : %(levelname)s : %(message)s',\n",
    "    level=logging.INFO)"
   ]
  },
  {
   "cell_type": "code",
   "execution_count": 3,
   "metadata": {},
   "outputs": [],
   "source": [
    "def show_file_contents(input_file):\n",
    "    with gzip.open(input_file, 'rb') as f:\n",
    "        for i, line in enumerate(f):\n",
    "            print(line)\n",
    "            break"
   ]
  },
  {
   "cell_type": "code",
   "execution_count": 4,
   "metadata": {},
   "outputs": [],
   "source": [
    "def read_input(input_file):\n",
    "    \"\"\"This method reads the input file which is in gzip format\"\"\"\n",
    "\n",
    "    logging.info(\"reading file {0}...this may take a while\".format(input_file))\n",
    "    with gzip.open(input_file, 'rb') as f:\n",
    "        for i, line in enumerate(f):\n",
    "\n",
    "            if (i % 10000 == 0):\n",
    "                logging.info(\"read {0} reviews\".format(i))\n",
    "            # do some pre-processing and return list of words for each review\n",
    "            # text\n",
    "            yield gensim.utils.simple_preprocess(line)"
   ]
  },
  {
   "cell_type": "code",
   "execution_count": 5,
   "metadata": {},
   "outputs": [
    {
     "name": "stderr",
     "output_type": "stream",
     "text": [
      "2020-04-12 12:22:09,309 : INFO : reading file reviews_data.txt.gz...this may take a while\n",
      "2020-04-12 12:22:09,398 : INFO : read 0 reviews\n",
      "2020-04-12 12:22:11,166 : INFO : read 10000 reviews\n",
      "2020-04-12 12:22:13,018 : INFO : read 20000 reviews\n",
      "2020-04-12 12:22:15,182 : INFO : read 30000 reviews\n",
      "2020-04-12 12:22:17,293 : INFO : read 40000 reviews\n",
      "2020-04-12 12:22:19,504 : INFO : read 50000 reviews\n",
      "2020-04-12 12:22:21,797 : INFO : read 60000 reviews\n",
      "2020-04-12 12:22:23,640 : INFO : read 70000 reviews\n",
      "2020-04-12 12:22:25,270 : INFO : read 80000 reviews\n",
      "2020-04-12 12:22:27,040 : INFO : read 90000 reviews\n",
      "2020-04-12 12:22:28,729 : INFO : read 100000 reviews\n",
      "2020-04-12 12:22:30,334 : INFO : read 110000 reviews\n",
      "2020-04-12 12:22:32,000 : INFO : read 120000 reviews\n",
      "2020-04-12 12:22:34,264 : INFO : read 130000 reviews\n",
      "2020-04-12 12:22:36,133 : INFO : read 140000 reviews\n",
      "2020-04-12 12:22:37,922 : INFO : read 150000 reviews\n",
      "2020-04-12 12:22:39,640 : INFO : read 160000 reviews\n",
      "2020-04-12 12:22:41,365 : INFO : read 170000 reviews\n",
      "2020-04-12 12:22:43,242 : INFO : read 180000 reviews\n",
      "2020-04-12 12:22:44,985 : INFO : read 190000 reviews\n",
      "2020-04-12 12:22:46,973 : INFO : read 200000 reviews\n",
      "2020-04-12 12:22:48,890 : INFO : read 210000 reviews\n",
      "2020-04-12 12:22:51,405 : INFO : read 220000 reviews\n",
      "2020-04-12 12:22:53,193 : INFO : read 230000 reviews\n",
      "2020-04-12 12:22:54,955 : INFO : read 240000 reviews\n",
      "2020-04-12 12:22:56,723 : INFO : read 250000 reviews\n"
     ]
    }
   ],
   "source": [
    "data_file = \"reviews_data.txt.gz\"\n",
    "\n",
    "# read the tokenized reviews into a list\n",
    "# each review item becomes a serries of words\n",
    "# so this becomes a list of lists\n",
    "documents = list(read_input(data_file))"
   ]
  },
  {
   "cell_type": "markdown",
   "metadata": {},
   "source": [
    "## Build and train the word2vec model"
   ]
  },
  {
   "cell_type": "code",
   "execution_count": 6,
   "metadata": {},
   "outputs": [
    {
     "name": "stderr",
     "output_type": "stream",
     "text": [
      "2020-04-12 12:22:57,668 : WARNING : consider setting layer size to a multiple of 4 for greater performance\n",
      "2020-04-12 12:22:57,698 : INFO : collecting all words and their counts\n",
      "2020-04-12 12:22:57,699 : INFO : PROGRESS: at sentence #0, processed 0 words, keeping 0 word types\n",
      "2020-04-12 12:22:57,957 : INFO : PROGRESS: at sentence #10000, processed 1655714 words, keeping 25777 word types\n",
      "2020-04-12 12:22:58,187 : INFO : PROGRESS: at sentence #20000, processed 3317863 words, keeping 35016 word types\n",
      "2020-04-12 12:22:58,439 : INFO : PROGRESS: at sentence #30000, processed 5264072 words, keeping 47518 word types\n",
      "2020-04-12 12:22:58,753 : INFO : PROGRESS: at sentence #40000, processed 7081746 words, keeping 56675 word types\n",
      "2020-04-12 12:22:59,011 : INFO : PROGRESS: at sentence #50000, processed 9089491 words, keeping 63744 word types\n",
      "2020-04-12 12:22:59,255 : INFO : PROGRESS: at sentence #60000, processed 11013726 words, keeping 76786 word types\n",
      "2020-04-12 12:22:59,481 : INFO : PROGRESS: at sentence #70000, processed 12637528 words, keeping 83199 word types\n",
      "2020-04-12 12:22:59,721 : INFO : PROGRESS: at sentence #80000, processed 14099754 words, keeping 88459 word types\n",
      "2020-04-12 12:22:59,927 : INFO : PROGRESS: at sentence #90000, processed 15662152 words, keeping 93357 word types\n",
      "2020-04-12 12:23:00,120 : INFO : PROGRESS: at sentence #100000, processed 17164490 words, keeping 97886 word types\n",
      "2020-04-12 12:23:00,311 : INFO : PROGRESS: at sentence #110000, processed 18652295 words, keeping 102132 word types\n",
      "2020-04-12 12:23:00,499 : INFO : PROGRESS: at sentence #120000, processed 20152532 words, keeping 105923 word types\n",
      "2020-04-12 12:23:00,704 : INFO : PROGRESS: at sentence #130000, processed 21684333 words, keeping 110104 word types\n",
      "2020-04-12 12:23:00,943 : INFO : PROGRESS: at sentence #140000, processed 23330209 words, keeping 114108 word types\n",
      "2020-04-12 12:23:01,141 : INFO : PROGRESS: at sentence #150000, processed 24838757 words, keeping 118174 word types\n",
      "2020-04-12 12:23:01,364 : INFO : PROGRESS: at sentence #160000, processed 26390913 words, keeping 118670 word types\n",
      "2020-04-12 12:23:01,566 : INFO : PROGRESS: at sentence #170000, processed 27913919 words, keeping 123356 word types\n",
      "2020-04-12 12:23:01,775 : INFO : PROGRESS: at sentence #180000, processed 29535615 words, keeping 126748 word types\n",
      "2020-04-12 12:23:01,981 : INFO : PROGRESS: at sentence #190000, processed 31096462 words, keeping 129847 word types\n",
      "2020-04-12 12:23:02,207 : INFO : PROGRESS: at sentence #200000, processed 32805274 words, keeping 133255 word types\n",
      "2020-04-12 12:23:02,418 : INFO : PROGRESS: at sentence #210000, processed 34434201 words, keeping 136364 word types\n",
      "2020-04-12 12:23:02,632 : INFO : PROGRESS: at sentence #220000, processed 36083485 words, keeping 139418 word types\n",
      "2020-04-12 12:23:02,833 : INFO : PROGRESS: at sentence #230000, processed 37571765 words, keeping 142399 word types\n",
      "2020-04-12 12:23:03,046 : INFO : PROGRESS: at sentence #240000, processed 39138193 words, keeping 145232 word types\n",
      "2020-04-12 12:23:03,282 : INFO : PROGRESS: at sentence #250000, processed 40695052 words, keeping 147966 word types\n",
      "2020-04-12 12:23:03,425 : INFO : collected 150059 word types from a corpus of 41519358 raw words and 255404 sentences\n",
      "2020-04-12 12:23:03,425 : INFO : Loading a fresh vocabulary\n",
      "2020-04-12 12:23:04,091 : INFO : effective_min_count=2 retains 70537 unique words (47% of original 150059, drops 79522)\n",
      "2020-04-12 12:23:04,092 : INFO : effective_min_count=2 leaves 41439836 word corpus (99% of original 41519358, drops 79522)\n",
      "2020-04-12 12:23:04,357 : INFO : deleting the raw counts dictionary of 150059 items\n",
      "2020-04-12 12:23:04,362 : INFO : sample=0.001 downsamples 55 most-common words\n",
      "2020-04-12 12:23:04,363 : INFO : downsampling leaves estimated 30349251 word corpus (73.2% of prior 41439836)\n",
      "2020-04-12 12:23:04,781 : INFO : estimated required memory for 70537 words and 150 dimensions: 119912900 bytes\n",
      "2020-04-12 12:23:04,783 : INFO : resetting layer weights\n",
      "2020-04-12 12:23:16,802 : INFO : training model with 10 workers on 70537 vocabulary and 150 features, using sg=0 hs=0 sample=0.001 negative=5 window=10\n",
      "2020-04-12 12:23:17,844 : INFO : EPOCH 1 - PROGRESS: at 5.73% examples, 1764504 words/s, in_qsize 19, out_qsize 0\n",
      "2020-04-12 12:23:18,851 : INFO : EPOCH 1 - PROGRESS: at 11.67% examples, 1900818 words/s, in_qsize 18, out_qsize 1\n",
      "2020-04-12 12:23:19,860 : INFO : EPOCH 1 - PROGRESS: at 17.44% examples, 1936494 words/s, in_qsize 19, out_qsize 0\n",
      "2020-04-12 12:23:20,866 : INFO : EPOCH 1 - PROGRESS: at 23.04% examples, 1956619 words/s, in_qsize 19, out_qsize 0\n",
      "2020-04-12 12:23:21,872 : INFO : EPOCH 1 - PROGRESS: at 29.85% examples, 1970407 words/s, in_qsize 17, out_qsize 2\n",
      "2020-04-12 12:23:22,880 : INFO : EPOCH 1 - PROGRESS: at 35.88% examples, 1927319 words/s, in_qsize 18, out_qsize 1\n",
      "2020-04-12 12:23:23,882 : INFO : EPOCH 1 - PROGRESS: at 42.82% examples, 1928428 words/s, in_qsize 18, out_qsize 1\n",
      "2020-04-12 12:23:24,892 : INFO : EPOCH 1 - PROGRESS: at 49.14% examples, 1905737 words/s, in_qsize 16, out_qsize 3\n",
      "2020-04-12 12:23:25,893 : INFO : EPOCH 1 - PROGRESS: at 54.90% examples, 1886714 words/s, in_qsize 19, out_qsize 0\n",
      "2020-04-12 12:23:26,900 : INFO : EPOCH 1 - PROGRESS: at 61.86% examples, 1896454 words/s, in_qsize 17, out_qsize 2\n",
      "2020-04-12 12:23:27,902 : INFO : EPOCH 1 - PROGRESS: at 68.47% examples, 1896160 words/s, in_qsize 18, out_qsize 1\n",
      "2020-04-12 12:23:28,910 : INFO : EPOCH 1 - PROGRESS: at 74.98% examples, 1898951 words/s, in_qsize 18, out_qsize 1\n",
      "2020-04-12 12:23:29,915 : INFO : EPOCH 1 - PROGRESS: at 81.21% examples, 1902707 words/s, in_qsize 18, out_qsize 1\n",
      "2020-04-12 12:23:30,922 : INFO : EPOCH 1 - PROGRESS: at 88.03% examples, 1909862 words/s, in_qsize 17, out_qsize 2\n",
      "2020-04-12 12:23:31,928 : INFO : EPOCH 1 - PROGRESS: at 95.22% examples, 1920254 words/s, in_qsize 17, out_qsize 2\n",
      "2020-04-12 12:23:32,577 : INFO : worker thread finished; awaiting finish of 9 more threads\n",
      "2020-04-12 12:23:32,587 : INFO : worker thread finished; awaiting finish of 8 more threads\n",
      "2020-04-12 12:23:32,589 : INFO : worker thread finished; awaiting finish of 7 more threads\n",
      "2020-04-12 12:23:32,590 : INFO : worker thread finished; awaiting finish of 6 more threads\n",
      "2020-04-12 12:23:32,591 : INFO : worker thread finished; awaiting finish of 5 more threads\n",
      "2020-04-12 12:23:32,599 : INFO : worker thread finished; awaiting finish of 4 more threads\n",
      "2020-04-12 12:23:32,600 : INFO : worker thread finished; awaiting finish of 3 more threads\n",
      "2020-04-12 12:23:32,601 : INFO : worker thread finished; awaiting finish of 2 more threads\n",
      "2020-04-12 12:23:32,606 : INFO : worker thread finished; awaiting finish of 1 more threads\n",
      "2020-04-12 12:23:32,609 : INFO : worker thread finished; awaiting finish of 0 more threads\n",
      "2020-04-12 12:23:32,610 : INFO : EPOCH - 1 : training on 41519358 raw words (30348276 effective words) took 15.8s, 1924821 effective words/s\n",
      "2020-04-12 12:23:33,616 : INFO : EPOCH 2 - PROGRESS: at 6.30% examples, 1941822 words/s, in_qsize 17, out_qsize 2\n",
      "2020-04-12 12:23:34,620 : INFO : EPOCH 2 - PROGRESS: at 12.01% examples, 1963801 words/s, in_qsize 19, out_qsize 0\n",
      "2020-04-12 12:23:35,622 : INFO : EPOCH 2 - PROGRESS: at 17.47% examples, 1946536 words/s, in_qsize 17, out_qsize 2\n",
      "2020-04-12 12:23:36,631 : INFO : EPOCH 2 - PROGRESS: at 22.83% examples, 1935977 words/s, in_qsize 17, out_qsize 2\n",
      "2020-04-12 12:23:37,635 : INFO : EPOCH 2 - PROGRESS: at 29.34% examples, 1945264 words/s, in_qsize 18, out_qsize 1\n",
      "2020-04-12 12:23:38,635 : INFO : EPOCH 2 - PROGRESS: at 36.50% examples, 1960075 words/s, in_qsize 20, out_qsize 0\n",
      "2020-04-12 12:23:39,638 : INFO : EPOCH 2 - PROGRESS: at 43.63% examples, 1963408 words/s, in_qsize 18, out_qsize 1\n",
      "2020-04-12 12:23:40,639 : INFO : EPOCH 2 - PROGRESS: at 50.85% examples, 1973381 words/s, in_qsize 19, out_qsize 0\n",
      "2020-04-12 12:23:41,647 : INFO : EPOCH 2 - PROGRESS: at 57.85% examples, 1982333 words/s, in_qsize 18, out_qsize 1\n",
      "2020-04-12 12:23:42,652 : INFO : EPOCH 2 - PROGRESS: at 64.89% examples, 1980585 words/s, in_qsize 16, out_qsize 3\n",
      "2020-04-12 12:23:43,653 : INFO : EPOCH 2 - PROGRESS: at 71.66% examples, 1988371 words/s, in_qsize 19, out_qsize 0\n"
     ]
    },
    {
     "name": "stderr",
     "output_type": "stream",
     "text": [
      "2020-04-12 12:23:44,664 : INFO : EPOCH 2 - PROGRESS: at 78.19% examples, 1987010 words/s, in_qsize 19, out_qsize 0\n",
      "2020-04-12 12:23:45,672 : INFO : EPOCH 2 - PROGRESS: at 84.39% examples, 1978653 words/s, in_qsize 18, out_qsize 1\n",
      "2020-04-12 12:23:46,676 : INFO : EPOCH 2 - PROGRESS: at 90.42% examples, 1960605 words/s, in_qsize 18, out_qsize 1\n",
      "2020-04-12 12:23:47,676 : INFO : EPOCH 2 - PROGRESS: at 97.00% examples, 1957830 words/s, in_qsize 18, out_qsize 1\n",
      "2020-04-12 12:23:48,113 : INFO : worker thread finished; awaiting finish of 9 more threads\n",
      "2020-04-12 12:23:48,116 : INFO : worker thread finished; awaiting finish of 8 more threads\n",
      "2020-04-12 12:23:48,117 : INFO : worker thread finished; awaiting finish of 7 more threads\n",
      "2020-04-12 12:23:48,118 : INFO : worker thread finished; awaiting finish of 6 more threads\n",
      "2020-04-12 12:23:48,123 : INFO : worker thread finished; awaiting finish of 5 more threads\n",
      "2020-04-12 12:23:48,124 : INFO : worker thread finished; awaiting finish of 4 more threads\n",
      "2020-04-12 12:23:48,128 : INFO : worker thread finished; awaiting finish of 3 more threads\n",
      "2020-04-12 12:23:48,134 : INFO : worker thread finished; awaiting finish of 2 more threads\n",
      "2020-04-12 12:23:48,136 : INFO : worker thread finished; awaiting finish of 1 more threads\n",
      "2020-04-12 12:23:48,137 : INFO : worker thread finished; awaiting finish of 0 more threads\n",
      "2020-04-12 12:23:48,138 : INFO : EPOCH - 2 : training on 41519358 raw words (30348975 effective words) took 15.5s, 1954959 effective words/s\n",
      "2020-04-12 12:23:49,149 : INFO : EPOCH 3 - PROGRESS: at 6.40% examples, 1963846 words/s, in_qsize 19, out_qsize 0\n",
      "2020-04-12 12:23:50,149 : INFO : EPOCH 3 - PROGRESS: at 11.72% examples, 1913413 words/s, in_qsize 17, out_qsize 2\n",
      "2020-04-12 12:23:51,151 : INFO : EPOCH 3 - PROGRESS: at 17.58% examples, 1958429 words/s, in_qsize 19, out_qsize 0\n",
      "2020-04-12 12:23:52,156 : INFO : EPOCH 3 - PROGRESS: at 23.11% examples, 1970153 words/s, in_qsize 17, out_qsize 2\n",
      "2020-04-12 12:23:53,156 : INFO : EPOCH 3 - PROGRESS: at 29.77% examples, 1972351 words/s, in_qsize 18, out_qsize 1\n",
      "2020-04-12 12:23:54,164 : INFO : EPOCH 3 - PROGRESS: at 37.07% examples, 1988515 words/s, in_qsize 18, out_qsize 1\n",
      "2020-04-12 12:23:55,170 : INFO : EPOCH 3 - PROGRESS: at 44.36% examples, 1988850 words/s, in_qsize 19, out_qsize 0\n",
      "2020-04-12 12:23:56,179 : INFO : EPOCH 3 - PROGRESS: at 50.88% examples, 1971346 words/s, in_qsize 18, out_qsize 1\n",
      "2020-04-12 12:23:57,186 : INFO : EPOCH 3 - PROGRESS: at 57.65% examples, 1972801 words/s, in_qsize 19, out_qsize 0\n",
      "2020-04-12 12:23:58,197 : INFO : EPOCH 3 - PROGRESS: at 64.98% examples, 1979993 words/s, in_qsize 19, out_qsize 0\n",
      "2020-04-12 12:23:59,207 : INFO : EPOCH 3 - PROGRESS: at 71.79% examples, 1988493 words/s, in_qsize 19, out_qsize 0\n",
      "2020-04-12 12:24:00,216 : INFO : EPOCH 3 - PROGRESS: at 78.58% examples, 1993430 words/s, in_qsize 18, out_qsize 1\n",
      "2020-04-12 12:24:01,217 : INFO : EPOCH 3 - PROGRESS: at 85.22% examples, 1996413 words/s, in_qsize 18, out_qsize 1\n",
      "2020-04-12 12:24:02,224 : INFO : EPOCH 3 - PROGRESS: at 92.62% examples, 2002827 words/s, in_qsize 16, out_qsize 3\n",
      "2020-04-12 12:24:03,226 : INFO : EPOCH 3 - PROGRESS: at 99.79% examples, 2008099 words/s, in_qsize 9, out_qsize 1\n",
      "2020-04-12 12:24:03,232 : INFO : worker thread finished; awaiting finish of 9 more threads\n",
      "2020-04-12 12:24:03,233 : INFO : worker thread finished; awaiting finish of 8 more threads\n",
      "2020-04-12 12:24:03,233 : INFO : worker thread finished; awaiting finish of 7 more threads\n",
      "2020-04-12 12:24:03,234 : INFO : worker thread finished; awaiting finish of 6 more threads\n",
      "2020-04-12 12:24:03,241 : INFO : worker thread finished; awaiting finish of 5 more threads\n",
      "2020-04-12 12:24:03,241 : INFO : worker thread finished; awaiting finish of 4 more threads\n",
      "2020-04-12 12:24:03,244 : INFO : worker thread finished; awaiting finish of 3 more threads\n",
      "2020-04-12 12:24:03,246 : INFO : worker thread finished; awaiting finish of 2 more threads\n",
      "2020-04-12 12:24:03,247 : INFO : worker thread finished; awaiting finish of 1 more threads\n",
      "2020-04-12 12:24:03,249 : INFO : worker thread finished; awaiting finish of 0 more threads\n",
      "2020-04-12 12:24:03,250 : INFO : EPOCH - 3 : training on 41519358 raw words (30348403 effective words) took 15.1s, 2008965 effective words/s\n",
      "2020-04-12 12:24:04,261 : INFO : EPOCH 4 - PROGRESS: at 6.59% examples, 2018556 words/s, in_qsize 19, out_qsize 0\n",
      "2020-04-12 12:24:05,262 : INFO : EPOCH 4 - PROGRESS: at 12.42% examples, 2039536 words/s, in_qsize 19, out_qsize 0\n",
      "2020-04-12 12:24:06,265 : INFO : EPOCH 4 - PROGRESS: at 18.31% examples, 2046939 words/s, in_qsize 16, out_qsize 3\n",
      "2020-04-12 12:24:07,270 : INFO : EPOCH 4 - PROGRESS: at 23.91% examples, 2046961 words/s, in_qsize 19, out_qsize 0\n",
      "2020-04-12 12:24:08,272 : INFO : EPOCH 4 - PROGRESS: at 31.19% examples, 2048543 words/s, in_qsize 18, out_qsize 1\n",
      "2020-04-12 12:24:09,271 : INFO : EPOCH 4 - PROGRESS: at 38.04% examples, 2035234 words/s, in_qsize 19, out_qsize 0\n",
      "2020-04-12 12:24:10,277 : INFO : EPOCH 4 - PROGRESS: at 45.19% examples, 2023091 words/s, in_qsize 19, out_qsize 0\n",
      "2020-04-12 12:24:11,279 : INFO : EPOCH 4 - PROGRESS: at 52.10% examples, 2020573 words/s, in_qsize 17, out_qsize 2\n",
      "2020-04-12 12:24:12,280 : INFO : EPOCH 4 - PROGRESS: at 58.86% examples, 2015714 words/s, in_qsize 18, out_qsize 1\n",
      "2020-04-12 12:24:13,284 : INFO : EPOCH 4 - PROGRESS: at 65.91% examples, 2015782 words/s, in_qsize 17, out_qsize 2\n",
      "2020-04-12 12:24:14,291 : INFO : EPOCH 4 - PROGRESS: at 72.54% examples, 2012310 words/s, in_qsize 18, out_qsize 1\n",
      "2020-04-12 12:24:15,293 : INFO : EPOCH 4 - PROGRESS: at 79.16% examples, 2013415 words/s, in_qsize 20, out_qsize 0\n",
      "2020-04-12 12:24:16,297 : INFO : EPOCH 4 - PROGRESS: at 85.75% examples, 2013352 words/s, in_qsize 17, out_qsize 2\n",
      "2020-04-12 12:24:17,308 : INFO : EPOCH 4 - PROGRESS: at 92.93% examples, 2013946 words/s, in_qsize 17, out_qsize 2\n",
      "2020-04-12 12:24:18,295 : INFO : worker thread finished; awaiting finish of 9 more threads\n",
      "2020-04-12 12:24:18,301 : INFO : worker thread finished; awaiting finish of 8 more threads\n",
      "2020-04-12 12:24:18,306 : INFO : worker thread finished; awaiting finish of 7 more threads\n",
      "2020-04-12 12:24:18,310 : INFO : EPOCH 4 - PROGRESS: at 99.86% examples, 2013156 words/s, in_qsize 6, out_qsize 1\n",
      "2020-04-12 12:24:18,311 : INFO : worker thread finished; awaiting finish of 6 more threads\n",
      "2020-04-12 12:24:18,312 : INFO : worker thread finished; awaiting finish of 5 more threads\n",
      "2020-04-12 12:24:18,316 : INFO : worker thread finished; awaiting finish of 4 more threads\n",
      "2020-04-12 12:24:18,318 : INFO : worker thread finished; awaiting finish of 3 more threads\n",
      "2020-04-12 12:24:18,318 : INFO : worker thread finished; awaiting finish of 2 more threads\n",
      "2020-04-12 12:24:18,320 : INFO : worker thread finished; awaiting finish of 1 more threads\n",
      "2020-04-12 12:24:18,324 : INFO : worker thread finished; awaiting finish of 0 more threads\n",
      "2020-04-12 12:24:18,324 : INFO : EPOCH - 4 : training on 41519358 raw words (30350348 effective words) took 15.1s, 2013897 effective words/s\n",
      "2020-04-12 12:24:19,331 : INFO : EPOCH 5 - PROGRESS: at 6.33% examples, 1949674 words/s, in_qsize 19, out_qsize 0\n",
      "2020-04-12 12:24:20,332 : INFO : EPOCH 5 - PROGRESS: at 11.86% examples, 1936637 words/s, in_qsize 18, out_qsize 1\n",
      "2020-04-12 12:24:21,333 : INFO : EPOCH 5 - PROGRESS: at 17.51% examples, 1953695 words/s, in_qsize 18, out_qsize 1\n",
      "2020-04-12 12:24:22,337 : INFO : EPOCH 5 - PROGRESS: at 23.07% examples, 1966531 words/s, in_qsize 19, out_qsize 0\n",
      "2020-04-12 12:24:23,337 : INFO : EPOCH 5 - PROGRESS: at 29.32% examples, 1949199 words/s, in_qsize 16, out_qsize 3\n",
      "2020-04-12 12:24:24,342 : INFO : EPOCH 5 - PROGRESS: at 36.10% examples, 1943045 words/s, in_qsize 18, out_qsize 1\n",
      "2020-04-12 12:24:25,350 : INFO : EPOCH 5 - PROGRESS: at 42.97% examples, 1938818 words/s, in_qsize 17, out_qsize 2\n",
      "2020-04-12 12:24:26,361 : INFO : EPOCH 5 - PROGRESS: at 49.59% examples, 1926534 words/s, in_qsize 17, out_qsize 2\n",
      "2020-04-12 12:24:27,361 : INFO : EPOCH 5 - PROGRESS: at 56.02% examples, 1922127 words/s, in_qsize 19, out_qsize 0\n",
      "2020-04-12 12:24:28,364 : INFO : EPOCH 5 - PROGRESS: at 62.37% examples, 1914555 words/s, in_qsize 19, out_qsize 0\n"
     ]
    },
    {
     "name": "stderr",
     "output_type": "stream",
     "text": [
      "2020-04-12 12:24:29,373 : INFO : EPOCH 5 - PROGRESS: at 69.28% examples, 1920640 words/s, in_qsize 18, out_qsize 1\n",
      "2020-04-12 12:24:30,375 : INFO : EPOCH 5 - PROGRESS: at 75.93% examples, 1927347 words/s, in_qsize 19, out_qsize 0\n",
      "2020-04-12 12:24:31,383 : INFO : EPOCH 5 - PROGRESS: at 82.50% examples, 1934508 words/s, in_qsize 18, out_qsize 1\n",
      "2020-04-12 12:24:32,383 : INFO : EPOCH 5 - PROGRESS: at 89.51% examples, 1942802 words/s, in_qsize 17, out_qsize 2\n",
      "2020-04-12 12:24:33,384 : INFO : EPOCH 5 - PROGRESS: at 96.06% examples, 1940814 words/s, in_qsize 18, out_qsize 1\n",
      "2020-04-12 12:24:33,905 : INFO : worker thread finished; awaiting finish of 9 more threads\n",
      "2020-04-12 12:24:33,908 : INFO : worker thread finished; awaiting finish of 8 more threads\n",
      "2020-04-12 12:24:33,911 : INFO : worker thread finished; awaiting finish of 7 more threads\n",
      "2020-04-12 12:24:33,914 : INFO : worker thread finished; awaiting finish of 6 more threads\n",
      "2020-04-12 12:24:33,917 : INFO : worker thread finished; awaiting finish of 5 more threads\n",
      "2020-04-12 12:24:33,921 : INFO : worker thread finished; awaiting finish of 4 more threads\n",
      "2020-04-12 12:24:33,922 : INFO : worker thread finished; awaiting finish of 3 more threads\n",
      "2020-04-12 12:24:33,923 : INFO : worker thread finished; awaiting finish of 2 more threads\n",
      "2020-04-12 12:24:33,927 : INFO : worker thread finished; awaiting finish of 1 more threads\n",
      "2020-04-12 12:24:33,930 : INFO : worker thread finished; awaiting finish of 0 more threads\n",
      "2020-04-12 12:24:33,930 : INFO : EPOCH - 5 : training on 41519358 raw words (30348412 effective words) took 15.6s, 1945163 effective words/s\n",
      "2020-04-12 12:24:33,931 : INFO : training on a 207596790 raw words (151744414 effective words) took 77.1s, 1967419 effective words/s\n",
      "2020-04-12 12:24:33,931 : WARNING : Effective 'alpha' higher than previous training cycles\n",
      "2020-04-12 12:24:33,931 : INFO : training model with 10 workers on 70537 vocabulary and 150 features, using sg=0 hs=0 sample=0.001 negative=5 window=10\n",
      "2020-04-12 12:24:34,937 : INFO : EPOCH 1 - PROGRESS: at 6.26% examples, 1930470 words/s, in_qsize 19, out_qsize 0\n",
      "2020-04-12 12:24:35,947 : INFO : EPOCH 1 - PROGRESS: at 12.01% examples, 1958868 words/s, in_qsize 17, out_qsize 2\n",
      "2020-04-12 12:24:36,949 : INFO : EPOCH 1 - PROGRESS: at 17.89% examples, 1993940 words/s, in_qsize 16, out_qsize 3\n",
      "2020-04-12 12:24:37,959 : INFO : EPOCH 1 - PROGRESS: at 23.63% examples, 2016179 words/s, in_qsize 18, out_qsize 1\n",
      "2020-04-12 12:24:38,967 : INFO : EPOCH 1 - PROGRESS: at 30.30% examples, 1998929 words/s, in_qsize 18, out_qsize 1\n",
      "2020-04-12 12:24:39,968 : INFO : EPOCH 1 - PROGRESS: at 37.38% examples, 1999642 words/s, in_qsize 19, out_qsize 0\n",
      "2020-04-12 12:24:40,971 : INFO : EPOCH 1 - PROGRESS: at 44.70% examples, 2000390 words/s, in_qsize 17, out_qsize 2\n",
      "2020-04-12 12:24:41,974 : INFO : EPOCH 1 - PROGRESS: at 51.66% examples, 2000661 words/s, in_qsize 18, out_qsize 1\n",
      "2020-04-12 12:24:42,979 : INFO : EPOCH 1 - PROGRESS: at 58.73% examples, 2008074 words/s, in_qsize 19, out_qsize 0\n",
      "2020-04-12 12:24:43,979 : INFO : EPOCH 1 - PROGRESS: at 65.75% examples, 2008140 words/s, in_qsize 19, out_qsize 0\n",
      "2020-04-12 12:24:44,987 : INFO : EPOCH 1 - PROGRESS: at 72.60% examples, 2011394 words/s, in_qsize 17, out_qsize 2\n",
      "2020-04-12 12:24:45,997 : INFO : EPOCH 1 - PROGRESS: at 79.33% examples, 2013612 words/s, in_qsize 19, out_qsize 0\n",
      "2020-04-12 12:24:47,000 : INFO : EPOCH 1 - PROGRESS: at 85.77% examples, 2010907 words/s, in_qsize 19, out_qsize 0\n",
      "2020-04-12 12:24:48,004 : INFO : EPOCH 1 - PROGRESS: at 92.91% examples, 2011752 words/s, in_qsize 19, out_qsize 0\n",
      "2020-04-12 12:24:48,981 : INFO : worker thread finished; awaiting finish of 9 more threads\n",
      "2020-04-12 12:24:48,986 : INFO : worker thread finished; awaiting finish of 8 more threads\n",
      "2020-04-12 12:24:48,987 : INFO : worker thread finished; awaiting finish of 7 more threads\n",
      "2020-04-12 12:24:48,987 : INFO : worker thread finished; awaiting finish of 6 more threads\n",
      "2020-04-12 12:24:48,994 : INFO : worker thread finished; awaiting finish of 5 more threads\n",
      "2020-04-12 12:24:48,995 : INFO : worker thread finished; awaiting finish of 4 more threads\n",
      "2020-04-12 12:24:48,997 : INFO : worker thread finished; awaiting finish of 3 more threads\n",
      "2020-04-12 12:24:48,999 : INFO : worker thread finished; awaiting finish of 2 more threads\n",
      "2020-04-12 12:24:49,003 : INFO : worker thread finished; awaiting finish of 1 more threads\n",
      "2020-04-12 12:24:49,004 : INFO : EPOCH 1 - PROGRESS: at 100.00% examples, 2014374 words/s, in_qsize 0, out_qsize 1\n",
      "2020-04-12 12:24:49,005 : INFO : worker thread finished; awaiting finish of 0 more threads\n",
      "2020-04-12 12:24:49,006 : INFO : EPOCH - 1 : training on 41519358 raw words (30351705 effective words) took 15.1s, 2014213 effective words/s\n",
      "2020-04-12 12:24:50,019 : INFO : EPOCH 2 - PROGRESS: at 6.61% examples, 2021493 words/s, in_qsize 17, out_qsize 2\n",
      "2020-04-12 12:24:51,031 : INFO : EPOCH 2 - PROGRESS: at 12.40% examples, 2022214 words/s, in_qsize 17, out_qsize 2\n",
      "2020-04-12 12:24:52,035 : INFO : EPOCH 2 - PROGRESS: at 18.28% examples, 2032408 words/s, in_qsize 17, out_qsize 2\n",
      "2020-04-12 12:24:53,037 : INFO : EPOCH 2 - PROGRESS: at 23.95% examples, 2045533 words/s, in_qsize 19, out_qsize 0\n",
      "2020-04-12 12:24:54,038 : INFO : EPOCH 2 - PROGRESS: at 31.34% examples, 2051582 words/s, in_qsize 19, out_qsize 0\n",
      "2020-04-12 12:24:55,045 : INFO : EPOCH 2 - PROGRESS: at 38.57% examples, 2053154 words/s, in_qsize 18, out_qsize 1\n",
      "2020-04-12 12:24:56,051 : INFO : EPOCH 2 - PROGRESS: at 46.06% examples, 2051685 words/s, in_qsize 17, out_qsize 2\n",
      "2020-04-12 12:24:57,056 : INFO : EPOCH 2 - PROGRESS: at 53.03% examples, 2053029 words/s, in_qsize 18, out_qsize 1\n",
      "2020-04-12 12:24:58,057 : INFO : EPOCH 2 - PROGRESS: at 60.23% examples, 2055221 words/s, in_qsize 19, out_qsize 0\n",
      "2020-04-12 12:24:59,065 : INFO : EPOCH 2 - PROGRESS: at 67.43% examples, 2055055 words/s, in_qsize 17, out_qsize 2\n",
      "2020-04-12 12:25:00,064 : INFO : EPOCH 2 - PROGRESS: at 74.40% examples, 2056714 words/s, in_qsize 19, out_qsize 0\n",
      "2020-04-12 12:25:01,077 : INFO : EPOCH 2 - PROGRESS: at 80.94% examples, 2054609 words/s, in_qsize 17, out_qsize 2\n",
      "2020-04-12 12:25:02,080 : INFO : EPOCH 2 - PROGRESS: at 87.26% examples, 2041261 words/s, in_qsize 18, out_qsize 1\n",
      "2020-04-12 12:25:03,081 : INFO : EPOCH 2 - PROGRESS: at 94.00% examples, 2033630 words/s, in_qsize 18, out_qsize 1\n",
      "2020-04-12 12:25:03,967 : INFO : worker thread finished; awaiting finish of 9 more threads\n",
      "2020-04-12 12:25:03,974 : INFO : worker thread finished; awaiting finish of 8 more threads\n",
      "2020-04-12 12:25:03,974 : INFO : worker thread finished; awaiting finish of 7 more threads\n",
      "2020-04-12 12:25:03,975 : INFO : worker thread finished; awaiting finish of 6 more threads\n",
      "2020-04-12 12:25:03,975 : INFO : worker thread finished; awaiting finish of 5 more threads\n",
      "2020-04-12 12:25:03,984 : INFO : worker thread finished; awaiting finish of 4 more threads\n",
      "2020-04-12 12:25:03,990 : INFO : worker thread finished; awaiting finish of 3 more threads\n",
      "2020-04-12 12:25:03,991 : INFO : worker thread finished; awaiting finish of 2 more threads\n",
      "2020-04-12 12:25:03,994 : INFO : worker thread finished; awaiting finish of 1 more threads\n",
      "2020-04-12 12:25:03,995 : INFO : worker thread finished; awaiting finish of 0 more threads\n",
      "2020-04-12 12:25:03,996 : INFO : EPOCH - 2 : training on 41519358 raw words (30351657 effective words) took 15.0s, 2025297 effective words/s\n",
      "2020-04-12 12:25:05,005 : INFO : EPOCH 3 - PROGRESS: at 5.96% examples, 1830894 words/s, in_qsize 19, out_qsize 0\n",
      "2020-04-12 12:25:06,008 : INFO : EPOCH 3 - PROGRESS: at 11.66% examples, 1896949 words/s, in_qsize 19, out_qsize 0\n",
      "2020-04-12 12:25:07,013 : INFO : EPOCH 3 - PROGRESS: at 17.47% examples, 1943512 words/s, in_qsize 17, out_qsize 2\n",
      "2020-04-12 12:25:08,013 : INFO : EPOCH 3 - PROGRESS: at 23.14% examples, 1972146 words/s, in_qsize 16, out_qsize 3\n",
      "2020-04-12 12:25:09,022 : INFO : EPOCH 3 - PROGRESS: at 30.14% examples, 1991813 words/s, in_qsize 18, out_qsize 1\n",
      "2020-04-12 12:25:10,029 : INFO : EPOCH 3 - PROGRESS: at 37.33% examples, 1998286 words/s, in_qsize 19, out_qsize 0\n",
      "2020-04-12 12:25:11,039 : INFO : EPOCH 3 - PROGRESS: at 44.84% examples, 2004207 words/s, in_qsize 19, out_qsize 0\n"
     ]
    },
    {
     "name": "stderr",
     "output_type": "stream",
     "text": [
      "2020-04-12 12:25:12,040 : INFO : EPOCH 3 - PROGRESS: at 51.97% examples, 2011794 words/s, in_qsize 19, out_qsize 0\n",
      "2020-04-12 12:25:13,044 : INFO : EPOCH 3 - PROGRESS: at 58.99% examples, 2015918 words/s, in_qsize 19, out_qsize 0\n",
      "2020-04-12 12:25:14,052 : INFO : EPOCH 3 - PROGRESS: at 66.24% examples, 2021253 words/s, in_qsize 19, out_qsize 0\n",
      "2020-04-12 12:25:15,053 : INFO : EPOCH 3 - PROGRESS: at 73.19% examples, 2025923 words/s, in_qsize 17, out_qsize 2\n",
      "2020-04-12 12:25:16,059 : INFO : EPOCH 3 - PROGRESS: at 79.93% examples, 2029906 words/s, in_qsize 19, out_qsize 0\n",
      "2020-04-12 12:25:17,065 : INFO : EPOCH 3 - PROGRESS: at 86.61% examples, 2028336 words/s, in_qsize 18, out_qsize 1\n",
      "2020-04-12 12:25:18,073 : INFO : EPOCH 3 - PROGRESS: at 93.65% examples, 2025991 words/s, in_qsize 17, out_qsize 2\n",
      "2020-04-12 12:25:18,938 : INFO : worker thread finished; awaiting finish of 9 more threads\n",
      "2020-04-12 12:25:18,941 : INFO : worker thread finished; awaiting finish of 8 more threads\n",
      "2020-04-12 12:25:18,944 : INFO : worker thread finished; awaiting finish of 7 more threads\n",
      "2020-04-12 12:25:18,944 : INFO : worker thread finished; awaiting finish of 6 more threads\n",
      "2020-04-12 12:25:18,946 : INFO : worker thread finished; awaiting finish of 5 more threads\n",
      "2020-04-12 12:25:18,948 : INFO : worker thread finished; awaiting finish of 4 more threads\n",
      "2020-04-12 12:25:18,953 : INFO : worker thread finished; awaiting finish of 3 more threads\n",
      "2020-04-12 12:25:18,960 : INFO : worker thread finished; awaiting finish of 2 more threads\n",
      "2020-04-12 12:25:18,961 : INFO : worker thread finished; awaiting finish of 1 more threads\n",
      "2020-04-12 12:25:18,962 : INFO : worker thread finished; awaiting finish of 0 more threads\n",
      "2020-04-12 12:25:18,962 : INFO : EPOCH - 3 : training on 41519358 raw words (30349393 effective words) took 15.0s, 2028460 effective words/s\n",
      "2020-04-12 12:25:19,971 : INFO : EPOCH 4 - PROGRESS: at 6.59% examples, 2024893 words/s, in_qsize 17, out_qsize 2\n",
      "2020-04-12 12:25:20,971 : INFO : EPOCH 4 - PROGRESS: at 12.49% examples, 2058245 words/s, in_qsize 18, out_qsize 1\n",
      "2020-04-12 12:25:21,974 : INFO : EPOCH 4 - PROGRESS: at 18.44% examples, 2061994 words/s, in_qsize 19, out_qsize 0\n",
      "2020-04-12 12:25:22,976 : INFO : EPOCH 4 - PROGRESS: at 24.00% examples, 2059906 words/s, in_qsize 18, out_qsize 1\n",
      "2020-04-12 12:25:23,980 : INFO : EPOCH 4 - PROGRESS: at 31.32% examples, 2056099 words/s, in_qsize 18, out_qsize 1\n",
      "2020-04-12 12:25:24,986 : INFO : EPOCH 4 - PROGRESS: at 38.52% examples, 2056264 words/s, in_qsize 17, out_qsize 2\n",
      "2020-04-12 12:25:25,991 : INFO : EPOCH 4 - PROGRESS: at 46.07% examples, 2056743 words/s, in_qsize 19, out_qsize 0\n",
      "2020-04-12 12:25:27,001 : INFO : EPOCH 4 - PROGRESS: at 52.98% examples, 2054418 words/s, in_qsize 17, out_qsize 2\n",
      "2020-04-12 12:25:28,001 : INFO : EPOCH 4 - PROGRESS: at 60.12% examples, 2055002 words/s, in_qsize 18, out_qsize 1\n",
      "2020-04-12 12:25:29,006 : INFO : EPOCH 4 - PROGRESS: at 67.30% examples, 2054669 words/s, in_qsize 17, out_qsize 2\n",
      "2020-04-12 12:25:30,010 : INFO : EPOCH 4 - PROGRESS: at 74.28% examples, 2055781 words/s, in_qsize 17, out_qsize 2\n",
      "2020-04-12 12:25:31,016 : INFO : EPOCH 4 - PROGRESS: at 80.90% examples, 2056682 words/s, in_qsize 17, out_qsize 2\n",
      "2020-04-12 12:25:32,018 : INFO : EPOCH 4 - PROGRESS: at 87.83% examples, 2056157 words/s, in_qsize 18, out_qsize 1\n",
      "2020-04-12 12:25:33,023 : INFO : EPOCH 4 - PROGRESS: at 94.99% examples, 2056502 words/s, in_qsize 16, out_qsize 3\n",
      "2020-04-12 12:25:33,684 : INFO : worker thread finished; awaiting finish of 9 more threads\n",
      "2020-04-12 12:25:33,693 : INFO : worker thread finished; awaiting finish of 8 more threads\n",
      "2020-04-12 12:25:33,695 : INFO : worker thread finished; awaiting finish of 7 more threads\n",
      "2020-04-12 12:25:33,696 : INFO : worker thread finished; awaiting finish of 6 more threads\n",
      "2020-04-12 12:25:33,696 : INFO : worker thread finished; awaiting finish of 5 more threads\n",
      "2020-04-12 12:25:33,705 : INFO : worker thread finished; awaiting finish of 4 more threads\n",
      "2020-04-12 12:25:33,708 : INFO : worker thread finished; awaiting finish of 3 more threads\n",
      "2020-04-12 12:25:33,709 : INFO : worker thread finished; awaiting finish of 2 more threads\n",
      "2020-04-12 12:25:33,713 : INFO : worker thread finished; awaiting finish of 1 more threads\n",
      "2020-04-12 12:25:33,714 : INFO : worker thread finished; awaiting finish of 0 more threads\n",
      "2020-04-12 12:25:33,714 : INFO : EPOCH - 4 : training on 41519358 raw words (30352951 effective words) took 14.7s, 2058173 effective words/s\n",
      "2020-04-12 12:25:34,723 : INFO : EPOCH 5 - PROGRESS: at 6.59% examples, 2024955 words/s, in_qsize 18, out_qsize 1\n",
      "2020-04-12 12:25:35,731 : INFO : EPOCH 5 - PROGRESS: at 12.13% examples, 1982280 words/s, in_qsize 18, out_qsize 1\n",
      "2020-04-12 12:25:36,737 : INFO : EPOCH 5 - PROGRESS: at 17.91% examples, 1991866 words/s, in_qsize 18, out_qsize 1\n",
      "2020-04-12 12:25:37,741 : INFO : EPOCH 5 - PROGRESS: at 23.59% examples, 2012382 words/s, in_qsize 19, out_qsize 0\n",
      "2020-04-12 12:25:38,741 : INFO : EPOCH 5 - PROGRESS: at 30.70% examples, 2022192 words/s, in_qsize 19, out_qsize 0\n",
      "2020-04-12 12:25:39,742 : INFO : EPOCH 5 - PROGRESS: at 37.95% examples, 2029351 words/s, in_qsize 18, out_qsize 1\n",
      "2020-04-12 12:25:40,750 : INFO : EPOCH 5 - PROGRESS: at 45.51% examples, 2032001 words/s, in_qsize 17, out_qsize 2\n",
      "2020-04-12 12:25:41,750 : INFO : EPOCH 5 - PROGRESS: at 52.56% examples, 2035954 words/s, in_qsize 19, out_qsize 0\n",
      "2020-04-12 12:25:42,755 : INFO : EPOCH 5 - PROGRESS: at 59.65% examples, 2038199 words/s, in_qsize 16, out_qsize 3\n",
      "2020-04-12 12:25:43,760 : INFO : EPOCH 5 - PROGRESS: at 66.80% examples, 2040254 words/s, in_qsize 17, out_qsize 2\n",
      "2020-04-12 12:25:44,765 : INFO : EPOCH 5 - PROGRESS: at 73.93% examples, 2044310 words/s, in_qsize 17, out_qsize 2\n",
      "2020-04-12 12:25:45,775 : INFO : EPOCH 5 - PROGRESS: at 80.42% examples, 2042845 words/s, in_qsize 18, out_qsize 1\n",
      "2020-04-12 12:25:46,779 : INFO : EPOCH 5 - PROGRESS: at 87.21% examples, 2041664 words/s, in_qsize 19, out_qsize 0\n",
      "2020-04-12 12:25:47,779 : INFO : EPOCH 5 - PROGRESS: at 94.35% examples, 2042155 words/s, in_qsize 19, out_qsize 0\n",
      "2020-04-12 12:25:48,546 : INFO : worker thread finished; awaiting finish of 9 more threads\n",
      "2020-04-12 12:25:48,550 : INFO : worker thread finished; awaiting finish of 8 more threads\n",
      "2020-04-12 12:25:48,553 : INFO : worker thread finished; awaiting finish of 7 more threads\n",
      "2020-04-12 12:25:48,555 : INFO : worker thread finished; awaiting finish of 6 more threads\n",
      "2020-04-12 12:25:48,556 : INFO : worker thread finished; awaiting finish of 5 more threads\n",
      "2020-04-12 12:25:48,557 : INFO : worker thread finished; awaiting finish of 4 more threads\n",
      "2020-04-12 12:25:48,564 : INFO : worker thread finished; awaiting finish of 3 more threads\n",
      "2020-04-12 12:25:48,568 : INFO : worker thread finished; awaiting finish of 2 more threads\n",
      "2020-04-12 12:25:48,570 : INFO : worker thread finished; awaiting finish of 1 more threads\n",
      "2020-04-12 12:25:48,571 : INFO : worker thread finished; awaiting finish of 0 more threads\n",
      "2020-04-12 12:25:48,572 : INFO : EPOCH - 5 : training on 41519358 raw words (30348153 effective words) took 14.9s, 2043144 effective words/s\n",
      "2020-04-12 12:25:49,577 : INFO : EPOCH 6 - PROGRESS: at 6.53% examples, 2010516 words/s, in_qsize 18, out_qsize 1\n",
      "2020-04-12 12:25:50,582 : INFO : EPOCH 6 - PROGRESS: at 12.37% examples, 2031966 words/s, in_qsize 18, out_qsize 1\n",
      "2020-04-12 12:25:51,582 : INFO : EPOCH 6 - PROGRESS: at 18.23% examples, 2039208 words/s, in_qsize 17, out_qsize 2\n",
      "2020-04-12 12:25:52,593 : INFO : EPOCH 6 - PROGRESS: at 23.91% examples, 2047206 words/s, in_qsize 20, out_qsize 1\n",
      "2020-04-12 12:25:53,601 : INFO : EPOCH 6 - PROGRESS: at 31.22% examples, 2047330 words/s, in_qsize 17, out_qsize 2\n",
      "2020-04-12 12:25:54,608 : INFO : EPOCH 6 - PROGRESS: at 38.46% examples, 2048202 words/s, in_qsize 17, out_qsize 2\n",
      "2020-04-12 12:25:55,609 : INFO : EPOCH 6 - PROGRESS: at 45.97% examples, 2051261 words/s, in_qsize 18, out_qsize 1\n",
      "2020-04-12 12:25:56,611 : INFO : EPOCH 6 - PROGRESS: at 52.94% examples, 2052472 words/s, in_qsize 18, out_qsize 1\n",
      "2020-04-12 12:25:57,618 : INFO : EPOCH 6 - PROGRESS: at 60.12% examples, 2053261 words/s, in_qsize 18, out_qsize 1\n"
     ]
    },
    {
     "name": "stderr",
     "output_type": "stream",
     "text": [
      "2020-04-12 12:25:58,621 : INFO : EPOCH 6 - PROGRESS: at 67.38% examples, 2055480 words/s, in_qsize 19, out_qsize 0\n",
      "2020-04-12 12:25:59,629 : INFO : EPOCH 6 - PROGRESS: at 74.32% examples, 2054669 words/s, in_qsize 18, out_qsize 1\n",
      "2020-04-12 12:26:00,630 : INFO : EPOCH 6 - PROGRESS: at 80.39% examples, 2042318 words/s, in_qsize 19, out_qsize 0\n",
      "2020-04-12 12:26:01,632 : INFO : EPOCH 6 - PROGRESS: at 87.14% examples, 2040795 words/s, in_qsize 18, out_qsize 1\n",
      "2020-04-12 12:26:02,634 : INFO : EPOCH 6 - PROGRESS: at 94.02% examples, 2036048 words/s, in_qsize 17, out_qsize 2\n",
      "2020-04-12 12:26:03,480 : INFO : worker thread finished; awaiting finish of 9 more threads\n",
      "2020-04-12 12:26:03,483 : INFO : worker thread finished; awaiting finish of 8 more threads\n",
      "2020-04-12 12:26:03,484 : INFO : worker thread finished; awaiting finish of 7 more threads\n",
      "2020-04-12 12:26:03,485 : INFO : worker thread finished; awaiting finish of 6 more threads\n",
      "2020-04-12 12:26:03,490 : INFO : worker thread finished; awaiting finish of 5 more threads\n",
      "2020-04-12 12:26:03,491 : INFO : worker thread finished; awaiting finish of 4 more threads\n",
      "2020-04-12 12:26:03,493 : INFO : worker thread finished; awaiting finish of 3 more threads\n",
      "2020-04-12 12:26:03,496 : INFO : worker thread finished; awaiting finish of 2 more threads\n",
      "2020-04-12 12:26:03,502 : INFO : worker thread finished; awaiting finish of 1 more threads\n",
      "2020-04-12 12:26:03,503 : INFO : worker thread finished; awaiting finish of 0 more threads\n",
      "2020-04-12 12:26:03,504 : INFO : EPOCH - 6 : training on 41519358 raw words (30349266 effective words) took 14.9s, 2033254 effective words/s\n",
      "2020-04-12 12:26:04,515 : INFO : EPOCH 7 - PROGRESS: at 6.38% examples, 1955912 words/s, in_qsize 19, out_qsize 0\n",
      "2020-04-12 12:26:05,522 : INFO : EPOCH 7 - PROGRESS: at 12.30% examples, 2012255 words/s, in_qsize 17, out_qsize 2\n",
      "2020-04-12 12:26:06,529 : INFO : EPOCH 7 - PROGRESS: at 18.21% examples, 2026441 words/s, in_qsize 19, out_qsize 0\n",
      "2020-04-12 12:26:07,533 : INFO : EPOCH 7 - PROGRESS: at 23.88% examples, 2039019 words/s, in_qsize 17, out_qsize 2\n",
      "2020-04-12 12:26:08,534 : INFO : EPOCH 7 - PROGRESS: at 31.13% examples, 2042375 words/s, in_qsize 18, out_qsize 1\n",
      "2020-04-12 12:26:09,541 : INFO : EPOCH 7 - PROGRESS: at 38.40% examples, 2045639 words/s, in_qsize 18, out_qsize 1\n",
      "2020-04-12 12:26:10,544 : INFO : EPOCH 7 - PROGRESS: at 45.76% examples, 2041851 words/s, in_qsize 18, out_qsize 1\n",
      "2020-04-12 12:26:11,545 : INFO : EPOCH 7 - PROGRESS: at 52.81% examples, 2045554 words/s, in_qsize 19, out_qsize 0\n",
      "2020-04-12 12:26:12,546 : INFO : EPOCH 7 - PROGRESS: at 59.88% examples, 2046188 words/s, in_qsize 19, out_qsize 0\n",
      "2020-04-12 12:26:13,553 : INFO : EPOCH 7 - PROGRESS: at 66.87% examples, 2041085 words/s, in_qsize 19, out_qsize 0\n",
      "2020-04-12 12:26:14,560 : INFO : EPOCH 7 - PROGRESS: at 73.82% examples, 2040870 words/s, in_qsize 17, out_qsize 2\n",
      "2020-04-12 12:26:15,569 : INFO : EPOCH 7 - PROGRESS: at 80.18% examples, 2036170 words/s, in_qsize 19, out_qsize 0\n",
      "2020-04-12 12:26:16,574 : INFO : EPOCH 7 - PROGRESS: at 86.81% examples, 2032734 words/s, in_qsize 19, out_qsize 0\n",
      "2020-04-12 12:26:17,582 : INFO : EPOCH 7 - PROGRESS: at 93.42% examples, 2021956 words/s, in_qsize 18, out_qsize 1\n",
      "2020-04-12 12:26:18,490 : INFO : worker thread finished; awaiting finish of 9 more threads\n",
      "2020-04-12 12:26:18,492 : INFO : worker thread finished; awaiting finish of 8 more threads\n",
      "2020-04-12 12:26:18,493 : INFO : worker thread finished; awaiting finish of 7 more threads\n",
      "2020-04-12 12:26:18,493 : INFO : worker thread finished; awaiting finish of 6 more threads\n",
      "2020-04-12 12:26:18,502 : INFO : worker thread finished; awaiting finish of 5 more threads\n",
      "2020-04-12 12:26:18,504 : INFO : worker thread finished; awaiting finish of 4 more threads\n",
      "2020-04-12 12:26:18,504 : INFO : worker thread finished; awaiting finish of 3 more threads\n",
      "2020-04-12 12:26:18,504 : INFO : worker thread finished; awaiting finish of 2 more threads\n",
      "2020-04-12 12:26:18,507 : INFO : worker thread finished; awaiting finish of 1 more threads\n",
      "2020-04-12 12:26:18,510 : INFO : worker thread finished; awaiting finish of 0 more threads\n",
      "2020-04-12 12:26:18,511 : INFO : EPOCH - 7 : training on 41519358 raw words (30351343 effective words) took 15.0s, 2022993 effective words/s\n",
      "2020-04-12 12:26:19,516 : INFO : EPOCH 8 - PROGRESS: at 6.43% examples, 1980883 words/s, in_qsize 19, out_qsize 0\n",
      "2020-04-12 12:26:20,518 : INFO : EPOCH 8 - PROGRESS: at 11.76% examples, 1922997 words/s, in_qsize 19, out_qsize 0\n",
      "2020-04-12 12:26:21,529 : INFO : EPOCH 8 - PROGRESS: at 17.37% examples, 1931050 words/s, in_qsize 17, out_qsize 2\n",
      "2020-04-12 12:26:22,536 : INFO : EPOCH 8 - PROGRESS: at 22.15% examples, 1871333 words/s, in_qsize 17, out_qsize 2\n",
      "2020-04-12 12:26:23,550 : INFO : EPOCH 8 - PROGRESS: at 27.54% examples, 1840870 words/s, in_qsize 16, out_qsize 3\n",
      "2020-04-12 12:26:24,555 : INFO : EPOCH 8 - PROGRESS: at 34.12% examples, 1843114 words/s, in_qsize 18, out_qsize 1\n",
      "2020-04-12 12:26:25,567 : INFO : EPOCH 8 - PROGRESS: at 41.06% examples, 1855585 words/s, in_qsize 17, out_qsize 2\n",
      "2020-04-12 12:26:26,572 : INFO : EPOCH 8 - PROGRESS: at 48.15% examples, 1870874 words/s, in_qsize 19, out_qsize 0\n",
      "2020-04-12 12:26:27,575 : INFO : EPOCH 8 - PROGRESS: at 54.75% examples, 1879949 words/s, in_qsize 18, out_qsize 1\n",
      "2020-04-12 12:26:28,579 : INFO : EPOCH 8 - PROGRESS: at 61.57% examples, 1886300 words/s, in_qsize 16, out_qsize 3\n",
      "2020-04-12 12:26:29,584 : INFO : EPOCH 8 - PROGRESS: at 68.11% examples, 1884721 words/s, in_qsize 19, out_qsize 0\n",
      "2020-04-12 12:26:30,588 : INFO : EPOCH 8 - PROGRESS: at 74.56% examples, 1887311 words/s, in_qsize 18, out_qsize 1\n",
      "2020-04-12 12:26:31,591 : INFO : EPOCH 8 - PROGRESS: at 80.92% examples, 1895553 words/s, in_qsize 17, out_qsize 2\n",
      "2020-04-12 12:26:32,593 : INFO : EPOCH 8 - PROGRESS: at 87.75% examples, 1904364 words/s, in_qsize 18, out_qsize 1\n",
      "2020-04-12 12:26:33,603 : INFO : EPOCH 8 - PROGRESS: at 94.64% examples, 1908947 words/s, in_qsize 18, out_qsize 1\n",
      "2020-04-12 12:26:34,321 : INFO : worker thread finished; awaiting finish of 9 more threads\n",
      "2020-04-12 12:26:34,329 : INFO : worker thread finished; awaiting finish of 8 more threads\n",
      "2020-04-12 12:26:34,331 : INFO : worker thread finished; awaiting finish of 7 more threads\n",
      "2020-04-12 12:26:34,331 : INFO : worker thread finished; awaiting finish of 6 more threads\n",
      "2020-04-12 12:26:34,334 : INFO : worker thread finished; awaiting finish of 5 more threads\n",
      "2020-04-12 12:26:34,340 : INFO : worker thread finished; awaiting finish of 4 more threads\n",
      "2020-04-12 12:26:34,342 : INFO : worker thread finished; awaiting finish of 3 more threads\n",
      "2020-04-12 12:26:34,343 : INFO : worker thread finished; awaiting finish of 2 more threads\n",
      "2020-04-12 12:26:34,345 : INFO : worker thread finished; awaiting finish of 1 more threads\n",
      "2020-04-12 12:26:34,349 : INFO : worker thread finished; awaiting finish of 0 more threads\n",
      "2020-04-12 12:26:34,350 : INFO : EPOCH - 8 : training on 41519358 raw words (30350182 effective words) took 15.8s, 1916616 effective words/s\n",
      "2020-04-12 12:26:35,359 : INFO : EPOCH 9 - PROGRESS: at 6.30% examples, 1939251 words/s, in_qsize 18, out_qsize 1\n",
      "2020-04-12 12:26:36,359 : INFO : EPOCH 9 - PROGRESS: at 12.12% examples, 1986071 words/s, in_qsize 18, out_qsize 1\n",
      "2020-04-12 12:26:37,359 : INFO : EPOCH 9 - PROGRESS: at 17.98% examples, 2010465 words/s, in_qsize 18, out_qsize 1\n",
      "2020-04-12 12:26:38,360 : INFO : EPOCH 9 - PROGRESS: at 23.53% examples, 2012803 words/s, in_qsize 17, out_qsize 2\n",
      "2020-04-12 12:26:39,361 : INFO : EPOCH 9 - PROGRESS: at 30.39% examples, 2012441 words/s, in_qsize 17, out_qsize 2\n",
      "2020-04-12 12:26:40,369 : INFO : EPOCH 9 - PROGRESS: at 37.67% examples, 2019301 words/s, in_qsize 18, out_qsize 1\n",
      "2020-04-12 12:26:41,375 : INFO : EPOCH 9 - PROGRESS: at 45.25% examples, 2025530 words/s, in_qsize 18, out_qsize 1\n",
      "2020-04-12 12:26:42,385 : INFO : EPOCH 9 - PROGRESS: at 52.11% examples, 2019288 words/s, in_qsize 18, out_qsize 1\n",
      "2020-04-12 12:26:43,396 : INFO : EPOCH 9 - PROGRESS: at 59.12% examples, 2020211 words/s, in_qsize 18, out_qsize 1\n",
      "2020-04-12 12:26:44,401 : INFO : EPOCH 9 - PROGRESS: at 66.06% examples, 2016553 words/s, in_qsize 19, out_qsize 0\n"
     ]
    },
    {
     "name": "stderr",
     "output_type": "stream",
     "text": [
      "2020-04-12 12:26:45,403 : INFO : EPOCH 9 - PROGRESS: at 73.00% examples, 2021474 words/s, in_qsize 19, out_qsize 0\n",
      "2020-04-12 12:26:46,409 : INFO : EPOCH 9 - PROGRESS: at 79.74% examples, 2025241 words/s, in_qsize 18, out_qsize 1\n",
      "2020-04-12 12:26:47,410 : INFO : EPOCH 9 - PROGRESS: at 86.44% examples, 2026499 words/s, in_qsize 19, out_qsize 0\n",
      "2020-04-12 12:26:48,419 : INFO : EPOCH 9 - PROGRESS: at 93.61% examples, 2026397 words/s, in_qsize 19, out_qsize 0\n",
      "2020-04-12 12:26:49,279 : INFO : worker thread finished; awaiting finish of 9 more threads\n",
      "2020-04-12 12:26:49,291 : INFO : worker thread finished; awaiting finish of 8 more threads\n",
      "2020-04-12 12:26:49,292 : INFO : worker thread finished; awaiting finish of 7 more threads\n",
      "2020-04-12 12:26:49,292 : INFO : worker thread finished; awaiting finish of 6 more threads\n",
      "2020-04-12 12:26:49,295 : INFO : worker thread finished; awaiting finish of 5 more threads\n",
      "2020-04-12 12:26:49,301 : INFO : worker thread finished; awaiting finish of 4 more threads\n",
      "2020-04-12 12:26:49,302 : INFO : worker thread finished; awaiting finish of 3 more threads\n",
      "2020-04-12 12:26:49,304 : INFO : worker thread finished; awaiting finish of 2 more threads\n",
      "2020-04-12 12:26:49,305 : INFO : worker thread finished; awaiting finish of 1 more threads\n",
      "2020-04-12 12:26:49,309 : INFO : worker thread finished; awaiting finish of 0 more threads\n",
      "2020-04-12 12:26:49,309 : INFO : EPOCH - 9 : training on 41519358 raw words (30350176 effective words) took 15.0s, 2029532 effective words/s\n",
      "2020-04-12 12:26:50,316 : INFO : EPOCH 10 - PROGRESS: at 6.55% examples, 2013003 words/s, in_qsize 18, out_qsize 1\n",
      "2020-04-12 12:26:51,318 : INFO : EPOCH 10 - PROGRESS: at 12.35% examples, 2029286 words/s, in_qsize 17, out_qsize 2\n",
      "2020-04-12 12:26:52,322 : INFO : EPOCH 10 - PROGRESS: at 18.15% examples, 2027697 words/s, in_qsize 17, out_qsize 2\n",
      "2020-04-12 12:26:53,328 : INFO : EPOCH 10 - PROGRESS: at 23.56% examples, 2012573 words/s, in_qsize 19, out_qsize 0\n",
      "2020-04-12 12:26:54,330 : INFO : EPOCH 10 - PROGRESS: at 30.16% examples, 1995628 words/s, in_qsize 19, out_qsize 0\n",
      "2020-04-12 12:26:55,334 : INFO : EPOCH 10 - PROGRESS: at 37.10% examples, 1990331 words/s, in_qsize 18, out_qsize 1\n",
      "2020-04-12 12:26:56,337 : INFO : EPOCH 10 - PROGRESS: at 44.12% examples, 1982110 words/s, in_qsize 19, out_qsize 0\n",
      "2020-04-12 12:26:57,337 : INFO : EPOCH 10 - PROGRESS: at 51.22% examples, 1988144 words/s, in_qsize 16, out_qsize 3\n",
      "2020-04-12 12:26:58,340 : INFO : EPOCH 10 - PROGRESS: at 58.12% examples, 1992599 words/s, in_qsize 19, out_qsize 0\n",
      "2020-04-12 12:26:59,342 : INFO : EPOCH 10 - PROGRESS: at 65.13% examples, 1990482 words/s, in_qsize 19, out_qsize 0\n",
      "2020-04-12 12:27:00,344 : INFO : EPOCH 10 - PROGRESS: at 71.73% examples, 1992932 words/s, in_qsize 19, out_qsize 0\n",
      "2020-04-12 12:27:01,344 : INFO : EPOCH 10 - PROGRESS: at 78.35% examples, 1994764 words/s, in_qsize 19, out_qsize 0\n",
      "2020-04-12 12:27:02,345 : INFO : EPOCH 10 - PROGRESS: at 85.04% examples, 1999544 words/s, in_qsize 19, out_qsize 0\n",
      "2020-04-12 12:27:03,345 : INFO : EPOCH 10 - PROGRESS: at 92.21% examples, 2000972 words/s, in_qsize 18, out_qsize 1\n",
      "2020-04-12 12:27:04,347 : INFO : EPOCH 10 - PROGRESS: at 99.20% examples, 2003894 words/s, in_qsize 18, out_qsize 1\n",
      "2020-04-12 12:27:04,431 : INFO : worker thread finished; awaiting finish of 9 more threads\n",
      "2020-04-12 12:27:04,437 : INFO : worker thread finished; awaiting finish of 8 more threads\n",
      "2020-04-12 12:27:04,438 : INFO : worker thread finished; awaiting finish of 7 more threads\n",
      "2020-04-12 12:27:04,440 : INFO : worker thread finished; awaiting finish of 6 more threads\n",
      "2020-04-12 12:27:04,443 : INFO : worker thread finished; awaiting finish of 5 more threads\n",
      "2020-04-12 12:27:04,444 : INFO : worker thread finished; awaiting finish of 4 more threads\n",
      "2020-04-12 12:27:04,449 : INFO : worker thread finished; awaiting finish of 3 more threads\n",
      "2020-04-12 12:27:04,453 : INFO : worker thread finished; awaiting finish of 2 more threads\n",
      "2020-04-12 12:27:04,456 : INFO : worker thread finished; awaiting finish of 1 more threads\n",
      "2020-04-12 12:27:04,459 : INFO : worker thread finished; awaiting finish of 0 more threads\n",
      "2020-04-12 12:27:04,459 : INFO : EPOCH - 10 : training on 41519358 raw words (30351884 effective words) took 15.1s, 2004047 effective words/s\n",
      "2020-04-12 12:27:04,460 : INFO : training on a 415193580 raw words (303506710 effective words) took 150.5s, 2016291 effective words/s\n"
     ]
    },
    {
     "data": {
      "text/plain": [
       "(303506710, 415193580)"
      ]
     },
     "execution_count": 6,
     "metadata": {},
     "output_type": "execute_result"
    }
   ],
   "source": [
    "# build vocabulary and train model\n",
    "model = gensim.models.Word2Vec(\n",
    "    documents,\n",
    "    size=150,\n",
    "    window=10,\n",
    "    min_count=2,\n",
    "    workers=10)\n",
    "model.train(documents, total_examples=len(documents), epochs=10)"
   ]
  },
  {
   "cell_type": "markdown",
   "metadata": {},
   "source": [
    "## The word vector"
   ]
  },
  {
   "cell_type": "code",
   "execution_count": 7,
   "metadata": {},
   "outputs": [
    {
     "data": {
      "text/plain": [
       "array([-0.8893415 ,  2.6292357 ,  0.2828774 , -0.17134681, -2.8983834 ,\n",
       "       -2.5533395 ,  2.2281933 , -0.48187846,  0.45160738, -0.0145868 ,\n",
       "        1.0033243 , -2.9302933 , -1.1290686 ,  3.4395437 , -1.9414741 ,\n",
       "       -3.3673682 ,  2.0334997 , -4.809913  , -1.0119628 , -1.3492088 ,\n",
       "       -0.25723404,  3.9807696 , -0.5040273 , -5.4466844 ,  0.7205117 ,\n",
       "       -2.9504042 ,  2.3437488 ,  1.8291106 ,  1.9721673 , -2.5548224 ,\n",
       "       -1.6400726 , -2.0512853 ,  3.6443694 ,  4.712955  ,  9.56626   ,\n",
       "       -0.15023443,  0.2276835 , -2.1001408 ,  0.8594855 ,  1.7736231 ,\n",
       "        2.0148191 , -0.9426737 , -0.15982918, -2.0931017 ,  3.525642  ,\n",
       "        0.6680931 ,  2.965518  , -1.7987895 ,  4.043912  ,  0.35361102,\n",
       "        0.49830598,  0.82611287,  0.8012975 , -0.7920021 ,  0.696813  ,\n",
       "       -0.67300713, -1.7493495 ,  2.5527184 , -1.912862  , -1.6095474 ,\n",
       "       -8.065058  ,  3.193629  , -3.9410093 , -1.4869591 ,  1.5795362 ,\n",
       "        1.3973325 ,  1.6164652 ,  0.60299265,  0.28946435,  0.31864402,\n",
       "       -1.6674885 ,  0.8319684 ,  0.077292  , -1.2846484 ,  4.3237586 ,\n",
       "        2.053821  , -2.4073424 ,  2.1720283 ,  0.6461365 ,  2.1364582 ,\n",
       "        0.18372966, -2.102353  ,  2.973441  ,  1.2586242 , -1.2613358 ,\n",
       "       -1.7999606 ,  2.4121664 ,  4.09838   , -3.9203482 ,  0.469156  ,\n",
       "       -3.2558174 , -1.5088805 ,  0.01163558, -1.2664783 , -0.9037975 ,\n",
       "       -0.59358203, -1.3063138 , -0.76566666, -2.4395552 ,  1.8705907 ,\n",
       "       -0.9379545 , -2.017173  , -3.0138981 , -7.4408846 , -2.5778966 ,\n",
       "       -0.589601  , -1.0213679 ,  0.96628517, -3.0302427 ,  1.2971514 ,\n",
       "       -0.4990979 , -2.9755664 ,  2.0607162 ,  0.440495  ,  2.4558055 ,\n",
       "        1.1208639 ,  3.4561903 ,  0.63691866, -1.5197114 , -0.9851906 ,\n",
       "        0.5179129 , -5.3719034 ,  0.51764154,  6.5939403 , -1.4522471 ,\n",
       "       -0.34964752, -1.3837293 ,  1.8315293 , -2.56715   ,  1.9873316 ,\n",
       "        1.7336113 ,  2.3507288 ,  4.258913  ,  0.4035675 , -1.6328373 ,\n",
       "        1.2916253 , -2.1816912 ,  4.177621  , -3.6951    , -1.1765995 ,\n",
       "       -0.178278  ,  0.34447393,  2.26666   ,  2.300196  ,  3.6992276 ,\n",
       "        2.1262593 , -3.6139069 , -0.34148407,  1.0000316 , -2.9678621 ],\n",
       "      dtype=float32)"
      ]
     },
     "execution_count": 7,
     "metadata": {},
     "output_type": "execute_result"
    }
   ],
   "source": [
    "model.wv.word_vec('good', use_norm=False)"
   ]
  },
  {
   "cell_type": "markdown",
   "metadata": {},
   "source": [
    "## Inspect most similar words"
   ]
  },
  {
   "cell_type": "code",
   "execution_count": 8,
   "metadata": {},
   "outputs": [
    {
     "name": "stderr",
     "output_type": "stream",
     "text": [
      "2020-04-12 12:27:04,488 : INFO : precomputing L2-norms of word weight vectors\n"
     ]
    },
    {
     "name": "stdout",
     "output_type": "stream",
     "text": [
      "Most similar to good [('decent', 0.832453727722168), ('great', 0.8042435646057129), ('excellent', 0.7057161331176758), ('terrific', 0.6984565258026123), ('nice', 0.6563105583190918), ('reasonable', 0.6268219351768494), ('fantastic', 0.6087706089019775), ('superb', 0.5931180119514465), ('poor', 0.5922418832778931), ('descent', 0.5886508226394653)]\n"
     ]
    }
   ],
   "source": [
    "w1='good'\n",
    "print(\"Most similar to {0}\".format(w1), model.wv.most_similar(positive=w1))"
   ]
  },
  {
   "cell_type": "code",
   "execution_count": 9,
   "metadata": {},
   "outputs": [
    {
     "name": "stdout",
     "output_type": "stream",
     "text": [
      "Most similar to dirty [('filthy', 0.8590859174728394), ('unclean', 0.776008665561676), ('stained', 0.7702484726905823), ('smelly', 0.7567040324211121), ('dusty', 0.7505346536636353), ('grubby', 0.745311975479126), ('dingy', 0.7329120635986328), ('disgusting', 0.7267738580703735), ('soiled', 0.7231345772743225), ('gross', 0.7077358961105347)]\n"
     ]
    }
   ],
   "source": [
    "w1='dirty'\n",
    "print(\"Most similar to {0}\".format(w1), model.wv.most_similar(positive=w1))"
   ]
  },
  {
   "cell_type": "code",
   "execution_count": 10,
   "metadata": {},
   "outputs": [
    {
     "name": "stdout",
     "output_type": "stream",
     "text": [
      "Most similar to mouse [('cockroach', 0.7721113562583923), ('roach', 0.7379498481750488), ('rat', 0.6945412158966064), ('mice', 0.6920764446258545), ('rodent', 0.6917898654937744), ('cockroaches', 0.667018473148346), ('crickets', 0.646521270275116), ('insect', 0.6252921223640442), ('roaches', 0.5736052989959717), ('spider', 0.5722607374191284)]\n"
     ]
    }
   ],
   "source": [
    "w1='mouse'\n",
    "print(\"Most similar to {0}\".format(w1), model.wv.most_similar(positive=w1))"
   ]
  },
  {
   "cell_type": "code",
   "execution_count": 11,
   "metadata": {},
   "outputs": [
    {
     "name": "stdout",
     "output_type": "stream",
     "text": [
      "Most similar to canada [('england', 0.7201815843582153), ('ireland', 0.6762627363204956), ('california', 0.6739157438278198), ('france', 0.6640790700912476), ('hawaii', 0.6569491624832153), ('uk', 0.6514620184898376), ('usa', 0.6486670970916748), ('scotland', 0.6466842889785767), ('mexico', 0.6426140069961548), ('spain', 0.635547935962677)]\n"
     ]
    }
   ],
   "source": [
    "w1='canada'\n",
    "print(\"Most similar to {0}\".format(w1), model.wv.most_similar(positive=w1))"
   ]
  },
  {
   "cell_type": "code",
   "execution_count": 12,
   "metadata": {},
   "outputs": [
    {
     "name": "stdout",
     "output_type": "stream",
     "text": [
      "Most similar to sheet [('quilt', 0.7211639881134033), ('blanket', 0.711049497127533), ('sheets', 0.6939498782157898), ('covers', 0.6647570729255676), ('coverlet', 0.6442717909812927), ('duvet', 0.6438722610473633), ('bedspread', 0.6398571729660034), ('topsheet', 0.6329735517501831), ('mattress', 0.6323386430740356), ('cover', 0.615329921245575)]\n"
     ]
    }
   ],
   "source": [
    "w1='sheet'\n",
    "print(\"Most similar to {0}\".format(w1), model.wv.most_similar(positive=[w1]))"
   ]
  },
  {
   "cell_type": "code",
   "execution_count": 13,
   "metadata": {},
   "outputs": [
    {
     "name": "stdout",
     "output_type": "stream",
     "text": [
      "Most similar to hilton [('marriott', 0.8410739898681641), ('sheraton', 0.807965099811554), ('westin', 0.7877262830734253), ('marriot', 0.750140368938446), ('fairmont', 0.7391467094421387), ('omni', 0.7123148441314697), ('wyndham', 0.711290717124939), ('mariott', 0.7040187120437622), ('renaissance', 0.6942853927612305), ('novotel', 0.6935412287712097)]\n"
     ]
    }
   ],
   "source": [
    "w1='hilton'\n",
    "print(\"Most similar to {0}\".format(w1), model.wv.most_similar(positive=[w1]))"
   ]
  },
  {
   "cell_type": "code",
   "execution_count": 14,
   "metadata": {},
   "outputs": [
    {
     "name": "stdout",
     "output_type": "stream",
     "text": [
      "Most similar to ramada [('fairfield', 0.660301685333252), ('jury', 0.647819459438324), ('americana', 0.6410687565803528), ('wingate', 0.6251657009124756), ('vagabond', 0.6160246133804321), ('bw', 0.6021790504455566), ('knights', 0.6020509004592896), ('premier', 0.59290611743927), ('hampton', 0.5912419557571411), ('jurys', 0.5912300944328308)]\n"
     ]
    }
   ],
   "source": [
    "w1='ramada'\n",
    "print(\"Most similar to {0}\".format(w1), model.wv.most_similar(positive=[w1]))"
   ]
  },
  {
   "cell_type": "code",
   "execution_count": 15,
   "metadata": {},
   "outputs": [
    {
     "data": {
      "text/plain": [
       "[('lady', 0.8620951175689697),\n",
       " ('gentleman', 0.8148595094680786),\n",
       " ('girl', 0.7865830659866333),\n",
       " ('man', 0.7803466320037842),\n",
       " ('gal', 0.7564860582351685),\n",
       " ('guy', 0.750112771987915),\n",
       " ('receptionist', 0.7001234889030457),\n",
       " ('chap', 0.6985578536987305),\n",
       " ('clerk', 0.6883853673934937),\n",
       " ('lad', 0.6542805433273315)]"
      ]
     },
     "execution_count": 15,
     "metadata": {},
     "output_type": "execute_result"
    }
   ],
   "source": [
    "model.wv.most_similar(positive=[\"woman\"], topn=10)"
   ]
  },
  {
   "cell_type": "code",
   "execution_count": 16,
   "metadata": {},
   "outputs": [
    {
     "data": {
      "text/plain": [
       "[('low', 0.5902500748634338),\n",
       " ('cleanliness', 0.5635704398155212),\n",
       " ('quantity', 0.5381519198417664),\n",
       " ('highest', 0.5355979204177856),\n",
       " ('range', 0.4963284134864807),\n",
       " ('comfort', 0.4698709547519684),\n",
       " ('standard', 0.4691306948661804),\n",
       " ('varying', 0.46460723876953125),\n",
       " ('freshness', 0.457942396402359),\n",
       " ('terms', 0.45345863699913025)]"
      ]
     },
     "execution_count": 16,
     "metadata": {},
     "output_type": "execute_result"
    }
   ],
   "source": [
    "model.wv.most_similar(positive=[\"high\", \"quality\"], topn=10)"
   ]
  },
  {
   "cell_type": "markdown",
   "metadata": {},
   "source": [
    "## The similarity function"
   ]
  },
  {
   "cell_type": "code",
   "execution_count": 17,
   "metadata": {},
   "outputs": [
    {
     "data": {
      "text/plain": [
       "0.7567041"
      ]
     },
     "execution_count": 17,
     "metadata": {},
     "output_type": "execute_result"
    }
   ],
   "source": [
    "model.wv.similarity('dirty', 'smelly')"
   ]
  },
  {
   "cell_type": "code",
   "execution_count": 18,
   "metadata": {},
   "outputs": [
    {
     "data": {
      "text/plain": [
       "0.5849116"
      ]
     },
     "execution_count": 18,
     "metadata": {},
     "output_type": "execute_result"
    }
   ],
   "source": [
    "model.wv.similarity('nice', 'decent')"
   ]
  },
  {
   "cell_type": "code",
   "execution_count": 19,
   "metadata": {},
   "outputs": [
    {
     "data": {
      "text/plain": [
       "0.4329895"
      ]
     },
     "execution_count": 19,
     "metadata": {},
     "output_type": "execute_result"
    }
   ],
   "source": [
    "model.wv.similarity('cat', 'dog')"
   ]
  },
  {
   "cell_type": "code",
   "execution_count": 20,
   "metadata": {},
   "outputs": [
    {
     "data": {
      "text/plain": [
       "0.16698554"
      ]
     },
     "execution_count": 20,
     "metadata": {},
     "output_type": "execute_result"
    }
   ],
   "source": [
    "model.wv.similarity('cat', 'car')"
   ]
  },
  {
   "cell_type": "markdown",
   "metadata": {},
   "source": [
    "## opt one out"
   ]
  },
  {
   "cell_type": "code",
   "execution_count": 21,
   "metadata": {},
   "outputs": [
    {
     "name": "stderr",
     "output_type": "stream",
     "text": [
      "D:\\ProgramData\\Anaconda3\\envs\\tfgpu\\lib\\site-packages\\gensim\\models\\keyedvectors.py:877: FutureWarning: arrays to stack must be passed as a \"sequence\" type such as list or tuple. Support for non-sequence iterables such as generators is deprecated as of NumPy 1.16 and will raise an error in the future.\n",
      "  vectors = vstack(self.word_vec(word, use_norm=True) for word in used_words).astype(REAL)\n"
     ]
    },
    {
     "data": {
      "text/plain": [
       "'beautiful'"
      ]
     },
     "execution_count": 21,
     "metadata": {},
     "output_type": "execute_result"
    }
   ],
   "source": [
    "model.wv.doesnt_match(['beautiful', 'smelly', 'ugly', 'dirty', 'filthy'])"
   ]
  },
  {
   "cell_type": "code",
   "execution_count": 22,
   "metadata": {},
   "outputs": [
    {
     "data": {
      "text/plain": [
       "'car'"
      ]
     },
     "execution_count": 22,
     "metadata": {},
     "output_type": "execute_result"
    }
   ],
   "source": [
    "model.wv.doesnt_match(['hotel', 'room', 'motel', 'restroom', 'car'])"
   ]
  },
  {
   "cell_type": "code",
   "execution_count": 23,
   "metadata": {},
   "outputs": [
    {
     "data": {
      "text/plain": [
       "'smoke'"
      ]
     },
     "execution_count": 23,
     "metadata": {},
     "output_type": "execute_result"
    }
   ],
   "source": [
    "model.wv.doesnt_match(['car', 'truck', 'ambulance', 'smoke', 'bus'])"
   ]
  },
  {
   "cell_type": "code",
   "execution_count": 24,
   "metadata": {},
   "outputs": [
    {
     "data": {
      "text/plain": [
       "'car'"
      ]
     },
     "execution_count": 24,
     "metadata": {},
     "output_type": "execute_result"
    }
   ],
   "source": [
    "model.wv.doesnt_match(['cat', 'dog', 'horse', 'car', 'bird'])"
   ]
  },
  {
   "cell_type": "markdown",
   "metadata": {},
   "source": [
    "## words_closer_than"
   ]
  },
  {
   "cell_type": "code",
   "execution_count": 25,
   "metadata": {},
   "outputs": [
    {
     "data": {
      "text/plain": [
       "['great',\n",
       " 'fantastic',\n",
       " 'amazing',\n",
       " 'fabulous',\n",
       " 'superb',\n",
       " 'awesome',\n",
       " 'outstanding',\n",
       " 'terrific',\n",
       " 'incredible',\n",
       " 'exceptional',\n",
       " 'excellant']"
      ]
     },
     "execution_count": 25,
     "metadata": {},
     "output_type": "execute_result"
    }
   ],
   "source": [
    "model.wv.words_closer_than('excellent', 'good')"
   ]
  },
  {
   "cell_type": "markdown",
   "metadata": {},
   "source": [
    "## analogy difference"
   ]
  },
  {
   "cell_type": "code",
   "execution_count": 26,
   "metadata": {},
   "outputs": [
    {
     "data": {
      "text/plain": [
       "[('queen', 0.6674585342407227),\n",
       " ('double', 0.5649215579032898),\n",
       " ('twin', 0.5541870594024658),\n",
       " ('doubles', 0.546242892742157),\n",
       " ('triple', 0.5185642242431641),\n",
       " ('triples', 0.5049171447753906),\n",
       " ('singles', 0.48745208978652954),\n",
       " ('dbl', 0.4788894057273865),\n",
       " ('single', 0.4778363108634949),\n",
       " ('twins', 0.4665118157863617)]"
      ]
     },
     "execution_count": 26,
     "metadata": {},
     "output_type": "execute_result"
    }
   ],
   "source": [
    "model.wv.most_similar(positive=[\"king\", \"women\"], negative=[\"man\"], topn=10)"
   ]
  },
  {
   "cell_type": "markdown",
   "metadata": {},
   "source": [
    "## TSNE Plot"
   ]
  },
  {
   "cell_type": "code",
   "execution_count": 27,
   "metadata": {},
   "outputs": [],
   "source": [
    "import numpy as np\n",
    "import matplotlib.pyplot as plt\n",
    "%matplotlib inline\n",
    " \n",
    "import seaborn as sns\n",
    "sns.set_style(\"darkgrid\")\n",
    "\n",
    "from sklearn.decomposition import PCA\n",
    "from sklearn.manifold import TSNE"
   ]
  },
  {
   "cell_type": "code",
   "execution_count": 28,
   "metadata": {},
   "outputs": [],
   "source": [
    "def tsnescatterplot(model, word, list_names):\n",
    "    \"\"\" Plot in seaborn the results from the t-SNE dimensionality reduction algorithm of the vectors of a query word,\n",
    "    its list of most similar words, and a list of words.\n",
    "    \"\"\"\n",
    "    arrays = np.empty((0, 150), dtype='f')\n",
    "    word_labels = [word]\n",
    "    color_list  = ['red']\n",
    "\n",
    "    # adds the vector of the query word\n",
    "    arrays = np.append(arrays, model.wv.__getitem__([word]), axis=0)\n",
    "    \n",
    "    # gets list of most similar words\n",
    "    close_words = model.wv.most_similar([word])\n",
    "    \n",
    "    # adds the vector for each of the closest words to the array\n",
    "    for wrd_score in close_words:\n",
    "        wrd_vector = model.wv.__getitem__([wrd_score[0]])\n",
    "        word_labels.append(wrd_score[0])\n",
    "        color_list.append('blue')\n",
    "        arrays = np.append(arrays, wrd_vector, axis=0)\n",
    "\n",
    "    # adds the vector for each of the words from list_names to the array\n",
    "    for wrd in list_names:\n",
    "        wrd_vector = model.wv.__getitem__([wrd])\n",
    "        word_labels.append(wrd)\n",
    "        color_list.append('green')\n",
    "        arrays = np.append(arrays, wrd_vector, axis=0)\n",
    "        \n",
    "    # Reduces the dimensionality from 300 to 50 dimensions with PCA\n",
    "    reduc = PCA(n_components=10).fit_transform(arrays)\n",
    "    \n",
    "    # Finds t-SNE coordinates for 2 dimensions\n",
    "    np.set_printoptions(suppress=True)\n",
    "    \n",
    "    Y = TSNE(n_components=2, random_state=0, perplexity=15).fit_transform(reduc)\n",
    "    \n",
    "    # Sets everything up to plot\n",
    "    df = pd.DataFrame({'x': [x for x in Y[:, 0]],\n",
    "                       'y': [y for y in Y[:, 1]],\n",
    "                       'words': word_labels,\n",
    "                       'color': color_list})\n",
    "\n",
    "    fig, _ = plt.subplots()\n",
    "    fig.set_size_inches(9, 9)\n",
    "    \n",
    "    # Basic plot\n",
    "    p1 = sns.regplot(data=df,\n",
    "                     x=\"x\",\n",
    "                     y=\"y\",\n",
    "                     fit_reg=False,\n",
    "                     marker=\"o\",\n",
    "                     scatter_kws={'s': 40,\n",
    "                                  'facecolors': df['color']\n",
    "                                 }\n",
    "                    )\n",
    "    \n",
    "    # Adds annotations one by one with a loop\n",
    "    for line in range(0, df.shape[0]):\n",
    "         p1.text(df[\"x\"][line],\n",
    "                 df['y'][line],\n",
    "                 '  ' + df[\"words\"][line].title(),\n",
    "                 horizontalalignment='left',\n",
    "                 verticalalignment='bottom', size='medium',\n",
    "                 color=df['color'][line],\n",
    "                 weight='normal'\n",
    "                ).set_size(15)\n",
    "\n",
    "    plt.xlim(Y[:, 0].min()-50, Y[:, 0].max()+50)\n",
    "    plt.ylim(Y[:, 1].min()-50, Y[:, 1].max()+50)\n",
    "            \n",
    "    plt.title('t-SNE visualization for {}'.format(word.title()))"
   ]
  },
  {
   "cell_type": "markdown",
   "metadata": {},
   "source": [
    "### Against 8 random words"
   ]
  },
  {
   "cell_type": "code",
   "execution_count": 29,
   "metadata": {},
   "outputs": [
    {
     "data": {
      "image/png": "[encoded data removed]",
      "text/plain": [
       "<Figure size 648x648 with 1 Axes>"
      ]
     },
     "metadata": {},
     "output_type": "display_data"
    }
   ],
   "source": [
    "tsnescatterplot(model, 'dirty', ['dog', 'bird', 'ah', 'maude', 'bob', 'mel', 'bus', 'duff'])"
   ]
  },
  {
   "cell_type": "markdown",
   "metadata": {},
   "source": [
    "### Against 10 most dissimilar words"
   ]
  },
  {
   "cell_type": "code",
   "execution_count": 30,
   "metadata": {},
   "outputs": [
    {
     "data": {
      "image/png": "[encoded data removed]",
      "text/plain": [
       "<Figure size 648x648 with 1 Axes>"
      ]
     },
     "metadata": {},
     "output_type": "display_data"
    }
   ],
   "source": [
    "tsnescatterplot(model, 'dirty', [i[0] for i in model.wv.most_similar(negative=[\"dirty\"])])"
   ]
  }
 ],
 "metadata": {
  "kernelspec": {
   "display_name": "Python 3",
   "language": "python",
   "name": "python3"
  },
  "language_info": {
   "codemirror_mode": {
    "name": "ipython",
    "version": 3
   },
   "file_extension": ".py",
   "mimetype": "text/x-python",
   "name": "python",
   "nbconvert_exporter": "python",
   "pygments_lexer": "ipython3",
   "version": "3.7.6"
  }
 },
 "nbformat": 4,
 "nbformat_minor": 2
}
