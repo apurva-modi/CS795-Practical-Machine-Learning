{
 "cells": [
  {
   "cell_type": "markdown",
   "metadata": {},
   "source": [
    "# Movie Recommendation System\n",
    "Movie recommendation system using MovieLen 100K dataset. Comparison between Matrix Factorization, Non-negative Matrix Factorization, and Neural Network.\n",
    "\n",
    "Code source from\n",
    "https://nipunbatra.github.io/blog/2017/recommend-keras.html"
   ]
  },
  {
   "cell_type": "code",
   "execution_count": 26,
   "metadata": {},
   "outputs": [],
   "source": [
    "import pandas as pd\n",
    "import numpy as np\n",
    "import matplotlib.pyplot as plt\n",
    "import warnings\n",
    "warnings.filterwarnings('ignore')\n",
    "\n",
    "%matplotlib inline"
   ]
  },
  {
   "cell_type": "markdown",
   "metadata": {},
   "source": [
    "## Read and Inspect Datasets"
   ]
  },
  {
   "cell_type": "code",
   "execution_count": 27,
   "metadata": {},
   "outputs": [],
   "source": [
    "dataset = pd.read_csv(\"ml-100k/u.data\",sep='\\t',names=\"user_id,item_id,rating,timestamp\".split(\",\"))"
   ]
  },
  {
   "cell_type": "code",
   "execution_count": 28,
   "metadata": {},
   "outputs": [
    {
     "data": {
      "text/html": [
       "<div>\n",
       "<style scoped>\n",
       "    .dataframe tbody tr th:only-of-type {\n",
       "        vertical-align: middle;\n",
       "    }\n",
       "\n",
       "    .dataframe tbody tr th {\n",
       "        vertical-align: top;\n",
       "    }\n",
       "\n",
       "    .dataframe thead th {\n",
       "        text-align: right;\n",
       "    }\n",
       "</style>\n",
       "<table border=\"1\" class=\"dataframe\">\n",
       "  <thead>\n",
       "    <tr style=\"text-align: right;\">\n",
       "      <th></th>\n",
       "      <th>user_id</th>\n",
       "      <th>item_id</th>\n",
       "      <th>rating</th>\n",
       "      <th>timestamp</th>\n",
       "    </tr>\n",
       "  </thead>\n",
       "  <tbody>\n",
       "    <tr>\n",
       "      <th>0</th>\n",
       "      <td>196</td>\n",
       "      <td>242</td>\n",
       "      <td>3</td>\n",
       "      <td>881250949</td>\n",
       "    </tr>\n",
       "    <tr>\n",
       "      <th>1</th>\n",
       "      <td>186</td>\n",
       "      <td>302</td>\n",
       "      <td>3</td>\n",
       "      <td>891717742</td>\n",
       "    </tr>\n",
       "    <tr>\n",
       "      <th>2</th>\n",
       "      <td>22</td>\n",
       "      <td>377</td>\n",
       "      <td>1</td>\n",
       "      <td>878887116</td>\n",
       "    </tr>\n",
       "    <tr>\n",
       "      <th>3</th>\n",
       "      <td>244</td>\n",
       "      <td>51</td>\n",
       "      <td>2</td>\n",
       "      <td>880606923</td>\n",
       "    </tr>\n",
       "    <tr>\n",
       "      <th>4</th>\n",
       "      <td>166</td>\n",
       "      <td>346</td>\n",
       "      <td>1</td>\n",
       "      <td>886397596</td>\n",
       "    </tr>\n",
       "  </tbody>\n",
       "</table>\n",
       "</div>"
      ],
      "text/plain": [
       "   user_id  item_id  rating  timestamp\n",
       "0      196      242       3  881250949\n",
       "1      186      302       3  891717742\n",
       "2       22      377       1  878887116\n",
       "3      244       51       2  880606923\n",
       "4      166      346       1  886397596"
      ]
     },
     "execution_count": 28,
     "metadata": {},
     "output_type": "execute_result"
    }
   ],
   "source": [
    "dataset.head()"
   ]
  },
  {
   "cell_type": "code",
   "execution_count": 29,
   "metadata": {},
   "outputs": [
    {
     "data": {
      "text/plain": [
       "(943, 1682)"
      ]
     },
     "execution_count": 29,
     "metadata": {},
     "output_type": "execute_result"
    }
   ],
   "source": [
    "len(dataset.user_id.unique()), len(dataset.item_id.unique())"
   ]
  },
  {
   "cell_type": "code",
   "execution_count": 30,
   "metadata": {},
   "outputs": [],
   "source": [
    "dataset.user_id = dataset.user_id.astype('category').cat.codes.values\n",
    "dataset.item_id = dataset.item_id.astype('category').cat.codes.values"
   ]
  },
  {
   "cell_type": "code",
   "execution_count": 31,
   "metadata": {},
   "outputs": [
    {
     "data": {
      "text/html": [
       "<div>\n",
       "<style scoped>\n",
       "    .dataframe tbody tr th:only-of-type {\n",
       "        vertical-align: middle;\n",
       "    }\n",
       "\n",
       "    .dataframe tbody tr th {\n",
       "        vertical-align: top;\n",
       "    }\n",
       "\n",
       "    .dataframe thead th {\n",
       "        text-align: right;\n",
       "    }\n",
       "</style>\n",
       "<table border=\"1\" class=\"dataframe\">\n",
       "  <thead>\n",
       "    <tr style=\"text-align: right;\">\n",
       "      <th></th>\n",
       "      <th>user_id</th>\n",
       "      <th>item_id</th>\n",
       "      <th>rating</th>\n",
       "      <th>timestamp</th>\n",
       "    </tr>\n",
       "  </thead>\n",
       "  <tbody>\n",
       "    <tr>\n",
       "      <th>0</th>\n",
       "      <td>195</td>\n",
       "      <td>241</td>\n",
       "      <td>3</td>\n",
       "      <td>881250949</td>\n",
       "    </tr>\n",
       "    <tr>\n",
       "      <th>1</th>\n",
       "      <td>185</td>\n",
       "      <td>301</td>\n",
       "      <td>3</td>\n",
       "      <td>891717742</td>\n",
       "    </tr>\n",
       "    <tr>\n",
       "      <th>2</th>\n",
       "      <td>21</td>\n",
       "      <td>376</td>\n",
       "      <td>1</td>\n",
       "      <td>878887116</td>\n",
       "    </tr>\n",
       "    <tr>\n",
       "      <th>3</th>\n",
       "      <td>243</td>\n",
       "      <td>50</td>\n",
       "      <td>2</td>\n",
       "      <td>880606923</td>\n",
       "    </tr>\n",
       "    <tr>\n",
       "      <th>4</th>\n",
       "      <td>165</td>\n",
       "      <td>345</td>\n",
       "      <td>1</td>\n",
       "      <td>886397596</td>\n",
       "    </tr>\n",
       "  </tbody>\n",
       "</table>\n",
       "</div>"
      ],
      "text/plain": [
       "   user_id  item_id  rating  timestamp\n",
       "0      195      241       3  881250949\n",
       "1      185      301       3  891717742\n",
       "2       21      376       1  878887116\n",
       "3      243       50       2  880606923\n",
       "4      165      345       1  886397596"
      ]
     },
     "execution_count": 31,
     "metadata": {},
     "output_type": "execute_result"
    }
   ],
   "source": [
    "dataset.head()"
   ]
  },
  {
   "cell_type": "markdown",
   "metadata": {},
   "source": [
    "## Split training set and test set"
   ]
  },
  {
   "cell_type": "code",
   "execution_count": 32,
   "metadata": {},
   "outputs": [],
   "source": [
    "from sklearn.model_selection import train_test_split\n",
    "train, test = train_test_split(dataset, test_size=0.2)"
   ]
  },
  {
   "cell_type": "markdown",
   "metadata": {},
   "source": [
    "## Recommendation using Matrix Factorization"
   ]
  },
  {
   "cell_type": "code",
   "execution_count": 33,
   "metadata": {},
   "outputs": [],
   "source": [
    "import tensorflow as tf\n",
    "import tensorflow.keras\n",
    "from IPython.display import SVG\n",
    "from tensorflow.keras.optimizers import Adam\n",
    "from tensorflow.keras.utils import model_to_dot\n",
    "n_users, n_movies = len(dataset.user_id.unique()), len(dataset.item_id.unique())\n",
    "n_latent_factors = 3"
   ]
  },
  {
   "cell_type": "code",
   "execution_count": 34,
   "metadata": {},
   "outputs": [],
   "source": [
    "movie_input = tensorflow.keras.layers.Input(shape=[1],name='Item')\n",
    "movie_embedding = tensorflow.keras.layers.Embedding(n_movies + 1, n_latent_factors, name='Movie-Embedding')(movie_input)\n",
    "movie_vec = tensorflow.keras.layers.Flatten(name='FlattenMovies')(movie_embedding)\n",
    "\n",
    "user_input = tensorflow.keras.layers.Input(shape=[1],name='User')\n",
    "user_vec = tensorflow.keras.layers.Flatten(name='FlattenUsers')(tensorflow.keras.layers.Embedding(n_users + 1, n_latent_factors,name='User-Embedding')(user_input))\n",
    "\n",
    "prod = tensorflow.keras.layers.dot([movie_vec, user_vec], axes=1, name='DotProduct')\n",
    "\n",
    "model = tensorflow.keras.Model([user_input, movie_input], prod)\n",
    "model.compile('adam', 'mean_squared_error')"
   ]
  },
  {
   "cell_type": "code",
   "execution_count": 35,
   "metadata": {},
   "outputs": [],
   "source": [
    "# SVG(model_to_dot(model,  show_shapes=True, show_layer_names=True, rankdir='HB').create(prog='dot', format='svg'))"
   ]
  },
  {
   "cell_type": "code",
   "execution_count": 36,
   "metadata": {},
   "outputs": [
    {
     "name": "stdout",
     "output_type": "stream",
     "text": [
      "Model: \"model_2\"\n",
      "__________________________________________________________________________________________________\n",
      "Layer (type)                    Output Shape         Param #     Connected to                     \n",
      "==================================================================================================\n",
      "Item (InputLayer)               [(None, 1)]          0                                            \n",
      "__________________________________________________________________________________________________\n",
      "User (InputLayer)               [(None, 1)]          0                                            \n",
      "__________________________________________________________________________________________________\n",
      "Movie-Embedding (Embedding)     (None, 1, 3)         5049        Item[0][0]                       \n",
      "__________________________________________________________________________________________________\n",
      "User-Embedding (Embedding)      (None, 1, 3)         2832        User[0][0]                       \n",
      "__________________________________________________________________________________________________\n",
      "FlattenMovies (Flatten)         (None, 3)            0           Movie-Embedding[0][0]            \n",
      "__________________________________________________________________________________________________\n",
      "FlattenUsers (Flatten)          (None, 3)            0           User-Embedding[0][0]             \n",
      "__________________________________________________________________________________________________\n",
      "DotProduct (Dot)                (None, 1)            0           FlattenMovies[0][0]              \n",
      "                                                                 FlattenUsers[0][0]               \n",
      "==================================================================================================\n",
      "Total params: 7,881\n",
      "Trainable params: 7,881\n",
      "Non-trainable params: 0\n",
      "__________________________________________________________________________________________________\n"
     ]
    }
   ],
   "source": [
    "model.summary()"
   ]
  },
  {
   "cell_type": "code",
   "execution_count": 37,
   "metadata": {},
   "outputs": [
    {
     "name": "stdout",
     "output_type": "stream",
     "text": [
      "WARNING:tensorflow:Falling back from v2 loop because of error: Failed to find data adapter that can handle input: (<class 'list'> containing values of types {\"<class 'pandas.core.series.Series'>\"}), <class 'NoneType'>\n",
      "Train on 80000 samples\n",
      "Epoch 1/100\n",
      "80000/80000 [==============================] - 3s 36us/sample - loss: 12.0279\n",
      "Epoch 2/100\n",
      "80000/80000 [==============================] - 3s 34us/sample - loss: 4.5626\n",
      "Epoch 3/100\n",
      "80000/80000 [==============================] - 3s 34us/sample - loss: 1.9386\n",
      "Epoch 4/100\n",
      "80000/80000 [==============================] - 3s 34us/sample - loss: 1.3150\n",
      "Epoch 5/100\n",
      "80000/80000 [==============================] - 2s 26us/sample - loss: 1.0853\n",
      "Epoch 6/100\n",
      "80000/80000 [==============================] - 2s 22us/sample - loss: 0.9855\n",
      "Epoch 7/100\n",
      "80000/80000 [==============================] - 2s 22us/sample - loss: 0.93780s - loss: 0.937\n",
      "Epoch 8/100\n",
      "80000/80000 [==============================] - 2s 22us/sample - loss: 0.9127\n",
      "Epoch 9/100\n",
      "80000/80000 [==============================] - 2s 22us/sample - loss: 0.8978\n",
      "Epoch 10/100\n",
      "80000/80000 [==============================] - 2s 22us/sample - loss: 0.8884\n",
      "Epoch 11/100\n",
      "80000/80000 [==============================] - 2s 22us/sample - loss: 0.8818\n",
      "Epoch 12/100\n",
      "80000/80000 [==============================] - 2s 22us/sample - loss: 0.8774\n",
      "Epoch 13/100\n",
      "80000/80000 [==============================] - 2s 22us/sample - loss: 0.8740\n",
      "Epoch 14/100\n",
      "80000/80000 [==============================] - 2s 22us/sample - loss: 0.8712\n",
      "Epoch 15/100\n",
      "80000/80000 [==============================] - 2s 22us/sample - loss: 0.8685\n",
      "Epoch 16/100\n",
      "80000/80000 [==============================] - 2s 22us/sample - loss: 0.8669\n",
      "Epoch 17/100\n",
      "80000/80000 [==============================] - 2s 22us/sample - loss: 0.8652\n",
      "Epoch 18/100\n",
      "80000/80000 [==============================] - 2s 22us/sample - loss: 0.8640\n",
      "Epoch 19/100\n",
      "80000/80000 [==============================] - 2s 22us/sample - loss: 0.8629\n",
      "Epoch 20/100\n",
      "80000/80000 [==============================] - 2s 22us/sample - loss: 0.8619\n",
      "Epoch 21/100\n",
      "80000/80000 [==============================] - 2s 22us/sample - loss: 0.8603\n",
      "Epoch 22/100\n",
      "80000/80000 [==============================] - 2s 22us/sample - loss: 0.8597\n",
      "Epoch 23/100\n",
      "80000/80000 [==============================] - 2s 22us/sample - loss: 0.8582\n",
      "Epoch 24/100\n",
      "80000/80000 [==============================] - 2s 23us/sample - loss: 0.8570\n",
      "Epoch 25/100\n",
      "80000/80000 [==============================] - 2s 23us/sample - loss: 0.8559\n",
      "Epoch 26/100\n",
      "80000/80000 [==============================] - 2s 22us/sample - loss: 0.8543\n",
      "Epoch 27/100\n",
      "80000/80000 [==============================] - 2s 22us/sample - loss: 0.8525\n",
      "Epoch 28/100\n",
      "80000/80000 [==============================] - 2s 22us/sample - loss: 0.8509\n",
      "Epoch 29/100\n",
      "80000/80000 [==============================] - 2s 22us/sample - loss: 0.8488\n",
      "Epoch 30/100\n",
      "80000/80000 [==============================] - 2s 22us/sample - loss: 0.8461\n",
      "Epoch 31/100\n",
      "80000/80000 [==============================] - 2s 22us/sample - loss: 0.8432\n",
      "Epoch 32/100\n",
      "80000/80000 [==============================] - 2s 22us/sample - loss: 0.8401\n",
      "Epoch 33/100\n",
      "80000/80000 [==============================] - 2s 22us/sample - loss: 0.8358\n",
      "Epoch 34/100\n",
      "80000/80000 [==============================] - 2s 22us/sample - loss: 0.8315\n",
      "Epoch 35/100\n",
      "80000/80000 [==============================] - 2s 22us/sample - loss: 0.8264\n",
      "Epoch 36/100\n",
      "80000/80000 [==============================] - 2s 22us/sample - loss: 0.8213\n",
      "Epoch 37/100\n",
      "80000/80000 [==============================] - 2s 22us/sample - loss: 0.8156\n",
      "Epoch 38/100\n",
      "80000/80000 [==============================] - 2s 22us/sample - loss: 0.8093\n",
      "Epoch 39/100\n",
      "80000/80000 [==============================] - 2s 22us/sample - loss: 0.8036\n",
      "Epoch 40/100\n",
      "80000/80000 [==============================] - 2s 22us/sample - loss: 0.7975\n",
      "Epoch 41/100\n",
      "80000/80000 [==============================] - 2s 22us/sample - loss: 0.7918\n",
      "Epoch 42/100\n",
      "80000/80000 [==============================] - 2s 22us/sample - loss: 0.7865\n",
      "Epoch 43/100\n",
      "80000/80000 [==============================] - 2s 22us/sample - loss: 0.7808\n",
      "Epoch 44/100\n",
      "80000/80000 [==============================] - 2s 22us/sample - loss: 0.7766\n",
      "Epoch 45/100\n",
      "80000/80000 [==============================] - 2s 22us/sample - loss: 0.7721\n",
      "Epoch 46/100\n",
      "80000/80000 [==============================] - 2s 22us/sample - loss: 0.7680\n",
      "Epoch 47/100\n",
      "80000/80000 [==============================] - 2s 22us/sample - loss: 0.7645\n",
      "Epoch 48/100\n",
      "80000/80000 [==============================] - 2s 22us/sample - loss: 0.7611\n",
      "Epoch 49/100\n",
      "80000/80000 [==============================] - 2s 22us/sample - loss: 0.7583\n",
      "Epoch 50/100\n",
      "80000/80000 [==============================] - 2s 22us/sample - loss: 0.7557\n",
      "Epoch 51/100\n",
      "80000/80000 [==============================] - 2s 22us/sample - loss: 0.7534\n",
      "Epoch 52/100\n",
      "80000/80000 [==============================] - 2s 22us/sample - loss: 0.7511\n",
      "Epoch 53/100\n",
      "80000/80000 [==============================] - 2s 22us/sample - loss: 0.7488\n",
      "Epoch 54/100\n",
      "80000/80000 [==============================] - 2s 22us/sample - loss: 0.7471\n",
      "Epoch 55/100\n",
      "80000/80000 [==============================] - 2s 22us/sample - loss: 0.7452\n",
      "Epoch 56/100\n",
      "80000/80000 [==============================] - 2s 22us/sample - loss: 0.7436\n",
      "Epoch 57/100\n",
      "80000/80000 [==============================] - 2s 22us/sample - loss: 0.7421\n",
      "Epoch 58/100\n",
      "80000/80000 [==============================] - 2s 22us/sample - loss: 0.7408\n",
      "Epoch 59/100\n",
      "80000/80000 [==============================] - 2s 22us/sample - loss: 0.7392\n",
      "Epoch 60/100\n",
      "80000/80000 [==============================] - 2s 22us/sample - loss: 0.7380\n",
      "Epoch 61/100\n",
      "80000/80000 [==============================] - 2s 22us/sample - loss: 0.7370\n",
      "Epoch 62/100\n",
      "80000/80000 [==============================] - 2s 22us/sample - loss: 0.7358\n",
      "Epoch 63/100\n",
      "80000/80000 [==============================] - 2s 22us/sample - loss: 0.7345\n",
      "Epoch 64/100\n",
      "80000/80000 [==============================] - 2s 22us/sample - loss: 0.7338\n",
      "Epoch 65/100\n",
      "80000/80000 [==============================] - 2s 22us/sample - loss: 0.7327\n",
      "Epoch 66/100\n",
      "80000/80000 [==============================] - 2s 22us/sample - loss: 0.7319\n",
      "Epoch 67/100\n",
      "80000/80000 [==============================] - 2s 22us/sample - loss: 0.73090s - l\n",
      "Epoch 68/100\n",
      "80000/80000 [==============================] - 2s 22us/sample - loss: 0.7303\n",
      "Epoch 69/100\n",
      "80000/80000 [==============================] - 2s 23us/sample - loss: 0.7295\n",
      "Epoch 70/100\n",
      "80000/80000 [==============================] - 2s 22us/sample - loss: 0.7288\n",
      "Epoch 71/100\n",
      "80000/80000 [==============================] - 2s 22us/sample - loss: 0.7281\n",
      "Epoch 72/100\n",
      "80000/80000 [==============================] - 2s 22us/sample - loss: 0.7274\n",
      "Epoch 73/100\n",
      "80000/80000 [==============================] - 2s 22us/sample - loss: 0.7269\n",
      "Epoch 74/100\n",
      "80000/80000 [==============================] - 2s 22us/sample - loss: 0.7263\n",
      "Epoch 75/100\n",
      "80000/80000 [==============================] - 2s 22us/sample - loss: 0.7255\n",
      "Epoch 76/100\n",
      "80000/80000 [==============================] - 2s 22us/sample - loss: 0.7251\n",
      "Epoch 77/100\n",
      "80000/80000 [==============================] - 2s 22us/sample - loss: 0.7245\n",
      "Epoch 78/100\n",
      "80000/80000 [==============================] - 2s 22us/sample - loss: 0.7242\n",
      "Epoch 79/100\n",
      "80000/80000 [==============================] - 2s 22us/sample - loss: 0.7236\n",
      "Epoch 80/100\n",
      "80000/80000 [==============================] - 2s 22us/sample - loss: 0.7233\n",
      "Epoch 81/100\n",
      "80000/80000 [==============================] - 2s 22us/sample - loss: 0.7228\n",
      "Epoch 82/100\n",
      "80000/80000 [==============================] - 2s 22us/sample - loss: 0.72200s - loss: 0.\n",
      "Epoch 83/100\n",
      "80000/80000 [==============================] - 2s 22us/sample - loss: 0.7221\n",
      "Epoch 84/100\n",
      "80000/80000 [==============================] - 2s 22us/sample - loss: 0.7214\n",
      "Epoch 85/100\n",
      "80000/80000 [==============================] - 2s 23us/sample - loss: 0.7212\n",
      "Epoch 86/100\n",
      "80000/80000 [==============================] - 2s 22us/sample - loss: 0.7208\n",
      "Epoch 87/100\n",
      "80000/80000 [==============================] - 2s 22us/sample - loss: 0.7204\n",
      "Epoch 88/100\n",
      "80000/80000 [==============================] - 2s 22us/sample - loss: 0.7200\n",
      "Epoch 89/100\n"
     ]
    },
    {
     "name": "stdout",
     "output_type": "stream",
     "text": [
      "80000/80000 [==============================] - 2s 22us/sample - loss: 0.7196\n",
      "Epoch 90/100\n",
      "80000/80000 [==============================] - 2s 22us/sample - loss: 0.7194\n",
      "Epoch 91/100\n",
      "80000/80000 [==============================] - 2s 22us/sample - loss: 0.7190\n",
      "Epoch 92/100\n",
      "80000/80000 [==============================] - 2s 22us/sample - loss: 0.7187\n",
      "Epoch 93/100\n",
      "80000/80000 [==============================] - 2s 22us/sample - loss: 0.7184\n",
      "Epoch 94/100\n",
      "80000/80000 [==============================] - 2s 22us/sample - loss: 0.7183\n",
      "Epoch 95/100\n",
      "80000/80000 [==============================] - 2s 22us/sample - loss: 0.7177\n",
      "Epoch 96/100\n",
      "80000/80000 [==============================] - 2s 22us/sample - loss: 0.7176\n",
      "Epoch 97/100\n",
      "80000/80000 [==============================] - 2s 22us/sample - loss: 0.7172\n",
      "Epoch 98/100\n",
      "80000/80000 [==============================] - 2s 22us/sample - loss: 0.7174\n",
      "Epoch 99/100\n",
      "80000/80000 [==============================] - 2s 22us/sample - loss: 0.7171\n",
      "Epoch 100/100\n",
      "80000/80000 [==============================] - 2s 22us/sample - loss: 0.7166\n"
     ]
    }
   ],
   "source": [
    "history = model.fit([train.user_id, train.item_id], train.rating, epochs=100, verbose=1)"
   ]
  },
  {
   "cell_type": "code",
   "execution_count": 38,
   "metadata": {},
   "outputs": [
    {
     "data": {
      "text/plain": [
       "Text(0, 0.5, 'Train Error')"
      ]
     },
     "execution_count": 38,
     "metadata": {},
     "output_type": "execute_result"
    },
    {
     "data": {
      "image/png": "[encoded data removed]",
      "text/plain": [
       "<Figure size 432x288 with 1 Axes>"
      ]
     },
     "metadata": {
      "needs_background": "light"
     },
     "output_type": "display_data"
    }
   ],
   "source": [
    "pd.Series(history.history['loss']).plot(logy=True)\n",
    "plt.xlabel(\"Epoch\")\n",
    "plt.ylabel(\"Train Error\")"
   ]
  },
  {
   "cell_type": "code",
   "execution_count": 39,
   "metadata": {},
   "outputs": [
    {
     "name": "stdout",
     "output_type": "stream",
     "text": [
      "WARNING:tensorflow:Falling back from v2 loop because of error: Failed to find data adapter that can handle input: (<class 'list'> containing values of types {\"<class 'pandas.core.series.Series'>\"}), <class 'NoneType'>\n"
     ]
    }
   ],
   "source": [
    "y_hat = np.round(model.predict([test.user_id, test.item_id]),0)\n",
    "y_true = test.rating"
   ]
  },
  {
   "cell_type": "code",
   "execution_count": 40,
   "metadata": {},
   "outputs": [
    {
     "data": {
      "text/plain": [
       "0.6946"
      ]
     },
     "execution_count": 40,
     "metadata": {},
     "output_type": "execute_result"
    }
   ],
   "source": [
    "from sklearn.metrics import mean_absolute_error\n",
    "mean_absolute_error(y_true, y_hat)"
   ]
  },
  {
   "cell_type": "code",
   "execution_count": 41,
   "metadata": {},
   "outputs": [
    {
     "data": {
      "text/html": [
       "<div>\n",
       "<style scoped>\n",
       "    .dataframe tbody tr th:only-of-type {\n",
       "        vertical-align: middle;\n",
       "    }\n",
       "\n",
       "    .dataframe tbody tr th {\n",
       "        vertical-align: top;\n",
       "    }\n",
       "\n",
       "    .dataframe thead th {\n",
       "        text-align: right;\n",
       "    }\n",
       "</style>\n",
       "<table border=\"1\" class=\"dataframe\">\n",
       "  <thead>\n",
       "    <tr style=\"text-align: right;\">\n",
       "      <th></th>\n",
       "      <th>0</th>\n",
       "      <th>1</th>\n",
       "      <th>2</th>\n",
       "    </tr>\n",
       "  </thead>\n",
       "  <tbody>\n",
       "    <tr>\n",
       "      <th>count</th>\n",
       "      <td>1683.000000</td>\n",
       "      <td>1683.000000</td>\n",
       "      <td>1683.000000</td>\n",
       "    </tr>\n",
       "    <tr>\n",
       "      <th>mean</th>\n",
       "      <td>0.975810</td>\n",
       "      <td>0.851396</td>\n",
       "      <td>0.937998</td>\n",
       "    </tr>\n",
       "    <tr>\n",
       "      <th>std</th>\n",
       "      <td>0.455443</td>\n",
       "      <td>0.518912</td>\n",
       "      <td>0.461832</td>\n",
       "    </tr>\n",
       "    <tr>\n",
       "      <th>min</th>\n",
       "      <td>-0.619111</td>\n",
       "      <td>-1.036764</td>\n",
       "      <td>-0.932491</td>\n",
       "    </tr>\n",
       "    <tr>\n",
       "      <th>25%</th>\n",
       "      <td>0.648488</td>\n",
       "      <td>0.502150</td>\n",
       "      <td>0.612579</td>\n",
       "    </tr>\n",
       "    <tr>\n",
       "      <th>50%</th>\n",
       "      <td>0.984188</td>\n",
       "      <td>0.852441</td>\n",
       "      <td>0.973312</td>\n",
       "    </tr>\n",
       "    <tr>\n",
       "      <th>75%</th>\n",
       "      <td>1.303464</td>\n",
       "      <td>1.236784</td>\n",
       "      <td>1.280570</td>\n",
       "    </tr>\n",
       "    <tr>\n",
       "      <th>max</th>\n",
       "      <td>2.542449</td>\n",
       "      <td>2.325980</td>\n",
       "      <td>2.482553</td>\n",
       "    </tr>\n",
       "  </tbody>\n",
       "</table>\n",
       "</div>"
      ],
      "text/plain": [
       "                 0            1            2\n",
       "count  1683.000000  1683.000000  1683.000000\n",
       "mean      0.975810     0.851396     0.937998\n",
       "std       0.455443     0.518912     0.461832\n",
       "min      -0.619111    -1.036764    -0.932491\n",
       "25%       0.648488     0.502150     0.612579\n",
       "50%       0.984188     0.852441     0.973312\n",
       "75%       1.303464     1.236784     1.280570\n",
       "max       2.542449     2.325980     2.482553"
      ]
     },
     "execution_count": 41,
     "metadata": {},
     "output_type": "execute_result"
    }
   ],
   "source": [
    "movie_embedding_learnt = model.get_layer(name='Movie-Embedding').get_weights()[0]\n",
    "pd.DataFrame(movie_embedding_learnt).describe()"
   ]
  },
  {
   "cell_type": "code",
   "execution_count": 42,
   "metadata": {},
   "outputs": [
    {
     "data": {
      "text/plain": [
       "(1683, 3)"
      ]
     },
     "execution_count": 42,
     "metadata": {},
     "output_type": "execute_result"
    }
   ],
   "source": [
    "movie_embedding_learnt.shape"
   ]
  },
  {
   "cell_type": "code",
   "execution_count": 43,
   "metadata": {},
   "outputs": [
    {
     "data": {
      "text/html": [
       "<div>\n",
       "<style scoped>\n",
       "    .dataframe tbody tr th:only-of-type {\n",
       "        vertical-align: middle;\n",
       "    }\n",
       "\n",
       "    .dataframe tbody tr th {\n",
       "        vertical-align: top;\n",
       "    }\n",
       "\n",
       "    .dataframe thead th {\n",
       "        text-align: right;\n",
       "    }\n",
       "</style>\n",
       "<table border=\"1\" class=\"dataframe\">\n",
       "  <thead>\n",
       "    <tr style=\"text-align: right;\">\n",
       "      <th></th>\n",
       "      <th>0</th>\n",
       "      <th>1</th>\n",
       "      <th>2</th>\n",
       "    </tr>\n",
       "  </thead>\n",
       "  <tbody>\n",
       "    <tr>\n",
       "      <th>count</th>\n",
       "      <td>944.000000</td>\n",
       "      <td>944.000000</td>\n",
       "      <td>944.000000</td>\n",
       "    </tr>\n",
       "    <tr>\n",
       "      <th>mean</th>\n",
       "      <td>1.081534</td>\n",
       "      <td>1.187131</td>\n",
       "      <td>1.117269</td>\n",
       "    </tr>\n",
       "    <tr>\n",
       "      <th>std</th>\n",
       "      <td>0.513242</td>\n",
       "      <td>0.430761</td>\n",
       "      <td>0.547319</td>\n",
       "    </tr>\n",
       "    <tr>\n",
       "      <th>min</th>\n",
       "      <td>-1.242091</td>\n",
       "      <td>-0.749022</td>\n",
       "      <td>-0.606336</td>\n",
       "    </tr>\n",
       "    <tr>\n",
       "      <th>25%</th>\n",
       "      <td>0.768188</td>\n",
       "      <td>0.921875</td>\n",
       "      <td>0.745218</td>\n",
       "    </tr>\n",
       "    <tr>\n",
       "      <th>50%</th>\n",
       "      <td>1.093960</td>\n",
       "      <td>1.217144</td>\n",
       "      <td>1.106681</td>\n",
       "    </tr>\n",
       "    <tr>\n",
       "      <th>75%</th>\n",
       "      <td>1.421018</td>\n",
       "      <td>1.495152</td>\n",
       "      <td>1.491973</td>\n",
       "    </tr>\n",
       "    <tr>\n",
       "      <th>max</th>\n",
       "      <td>2.541045</td>\n",
       "      <td>2.396723</td>\n",
       "      <td>2.880352</td>\n",
       "    </tr>\n",
       "  </tbody>\n",
       "</table>\n",
       "</div>"
      ],
      "text/plain": [
       "                0           1           2\n",
       "count  944.000000  944.000000  944.000000\n",
       "mean     1.081534    1.187131    1.117269\n",
       "std      0.513242    0.430761    0.547319\n",
       "min     -1.242091   -0.749022   -0.606336\n",
       "25%      0.768188    0.921875    0.745218\n",
       "50%      1.093960    1.217144    1.106681\n",
       "75%      1.421018    1.495152    1.491973\n",
       "max      2.541045    2.396723    2.880352"
      ]
     },
     "execution_count": 43,
     "metadata": {},
     "output_type": "execute_result"
    }
   ],
   "source": [
    "user_embedding_learnt = model.get_layer(name='User-Embedding').get_weights()[0]\n",
    "pd.DataFrame(user_embedding_learnt).describe()"
   ]
  },
  {
   "cell_type": "code",
   "execution_count": 44,
   "metadata": {},
   "outputs": [
    {
     "data": {
      "text/plain": [
       "array([[ 1.18353   ,  1.7226923 ,  0.5825984 ],\n",
       "       [ 0.53640217,  1.8114469 ,  0.97647816],\n",
       "       [ 0.97251827,  1.0810235 ,  0.6602126 ],\n",
       "       ...,\n",
       "       [ 1.058401  ,  1.0863191 ,  1.7012861 ],\n",
       "       [ 1.5982289 ,  1.0798706 ,  0.7811139 ],\n",
       "       [-0.01372885,  0.00786493, -0.04854197]], dtype=float32)"
      ]
     },
     "execution_count": 44,
     "metadata": {},
     "output_type": "execute_result"
    }
   ],
   "source": [
    "user_embedding_learnt"
   ]
  },
  {
   "cell_type": "markdown",
   "metadata": {},
   "source": [
    "### Inspect the completed matrix"
   ]
  },
  {
   "cell_type": "code",
   "execution_count": 45,
   "metadata": {},
   "outputs": [],
   "source": [
    "matrix = user_embedding_learnt.dot(np.transpose(movie_embedding_learnt))"
   ]
  },
  {
   "cell_type": "code",
   "execution_count": 46,
   "metadata": {},
   "outputs": [
    {
     "data": {
      "text/plain": [
       "array([[ 3.8766613e+00,  2.9156163e+00,  2.9493024e+00, ...,\n",
       "         3.6652682e+00,  3.1490128e+00, -4.8320532e-02],\n",
       "       [ 3.8951097e+00,  3.0158050e+00,  2.6182876e+00, ...,\n",
       "         3.4959335e+00,  2.9952102e+00, -2.2179427e-02],\n",
       "       [ 3.0459712e+00,  2.4333739e+00,  2.4123340e+00, ...,\n",
       "         2.8661444e+00,  2.4286740e+00, -4.5698766e-02],\n",
       "       ...,\n",
       "       [ 4.5318980e+00,  3.9877856e+00,  3.5383682e+00, ...,\n",
       "         4.0978942e+00,  3.3923197e+00, -6.5116011e-02],\n",
       "       [ 3.7991962e+00,  3.1066375e+00,  3.2724216e+00, ...,\n",
       "         3.6637015e+00,  3.0820866e+00, -7.7531345e-02],\n",
       "       [-6.9191396e-02, -7.4924372e-02, -5.9450738e-02, ...,\n",
       "        -5.9469610e-02, -4.5924492e-02,  1.4526668e-03]], dtype=float32)"
      ]
     },
     "execution_count": 46,
     "metadata": {},
     "output_type": "execute_result"
    }
   ],
   "source": [
    "matrix"
   ]
  },
  {
   "cell_type": "markdown",
   "metadata": {},
   "source": [
    "## Recommendation using Deep Neural Network"
   ]
  },
  {
   "cell_type": "code",
   "execution_count": 49,
   "metadata": {},
   "outputs": [],
   "source": [
    "n_latent_factors_user = 5\n",
    "n_latent_factors_movie = 8"
   ]
  },
  {
   "cell_type": "code",
   "execution_count": 51,
   "metadata": {},
   "outputs": [],
   "source": [
    "movie_input = tensorflow.keras.layers.Input(shape=[1],name='Item')\n",
    "movie_embedding = tensorflow.keras.layers.Embedding(n_movies + 1, n_latent_factors_movie, name='Movie-Embedding')(movie_input)\n",
    "movie_vec = tensorflow.keras.layers.Flatten(name='FlattenMovies')(movie_embedding)\n",
    "movie_vec = tensorflow.keras.layers.Dropout(0.2)(movie_vec)\n",
    "\n",
    "\n",
    "user_input = tensorflow.keras.layers.Input(shape=[1],name='User')\n",
    "user_vec = tensorflow.keras.layers.Flatten(name='FlattenUsers')(tensorflow.keras.layers.Embedding(n_users + 1, n_latent_factors_user,name='User-Embedding')(user_input))\n",
    "user_vec = tensorflow.keras.layers.Dropout(0.2)(user_vec)\n",
    "\n",
    "\n",
    "concat = tensorflow.keras.layers.Concatenate(name='Concat')([movie_vec, user_vec])\n",
    "concat_dropout = tensorflow.keras.layers.Dropout(0.2)(concat)\n",
    "dense = tensorflow.keras.layers.Dense(200,name='FullyConnected')(concat)\n",
    "dropout_1 = tensorflow.keras.layers.Dropout(0.2,name='Dropout')(dense)\n",
    "dense_2 = tensorflow.keras.layers.Dense(100,name='FullyConnected-1')(concat)\n",
    "dropout_2 = tensorflow.keras.layers.Dropout(0.2,name='Dropout')(dense_2)\n",
    "dense_3 = tensorflow.keras.layers.Dense(50,name='FullyConnected-2')(dense_2)\n",
    "dropout_3 = tensorflow.keras.layers.Dropout(0.2,name='Dropout')(dense_3)\n",
    "dense_4 = tensorflow.keras.layers.Dense(20,name='FullyConnected-3', activation='relu')(dense_3)\n",
    "\n",
    "\n",
    "result = tensorflow.keras.layers.Dense(1, activation='relu',name='Activation')(dense_4)\n",
    "adam = Adam(lr=0.005)\n",
    "model = tensorflow.keras.Model([user_input, movie_input], result)\n",
    "model.compile(optimizer=adam,loss= 'mean_absolute_error')"
   ]
  },
  {
   "cell_type": "code",
   "execution_count": 52,
   "metadata": {},
   "outputs": [
    {
     "name": "stdout",
     "output_type": "stream",
     "text": [
      "Model: \"model_4\"\n",
      "__________________________________________________________________________________________________\n",
      "Layer (type)                    Output Shape         Param #     Connected to                     \n",
      "==================================================================================================\n",
      "Item (InputLayer)               [(None, 1)]          0                                            \n",
      "__________________________________________________________________________________________________\n",
      "User (InputLayer)               [(None, 1)]          0                                            \n",
      "__________________________________________________________________________________________________\n",
      "Movie-Embedding (Embedding)     (None, 1, 8)         13464       Item[0][0]                       \n",
      "__________________________________________________________________________________________________\n",
      "User-Embedding (Embedding)      (None, 1, 5)         4720        User[0][0]                       \n",
      "__________________________________________________________________________________________________\n",
      "FlattenMovies (Flatten)         (None, 8)            0           Movie-Embedding[0][0]            \n",
      "__________________________________________________________________________________________________\n",
      "FlattenUsers (Flatten)          (None, 5)            0           User-Embedding[0][0]             \n",
      "__________________________________________________________________________________________________\n",
      "dropout (Dropout)               (None, 8)            0           FlattenMovies[0][0]              \n",
      "__________________________________________________________________________________________________\n",
      "dropout_1 (Dropout)             (None, 5)            0           FlattenUsers[0][0]               \n",
      "__________________________________________________________________________________________________\n",
      "Concat (Concatenate)            (None, 13)           0           dropout[0][0]                    \n",
      "                                                                 dropout_1[0][0]                  \n",
      "__________________________________________________________________________________________________\n",
      "FullyConnected-1 (Dense)        (None, 100)          1400        Concat[0][0]                     \n",
      "__________________________________________________________________________________________________\n",
      "FullyConnected-2 (Dense)        (None, 50)           5050        FullyConnected-1[0][0]           \n",
      "__________________________________________________________________________________________________\n",
      "FullyConnected-3 (Dense)        (None, 20)           1020        FullyConnected-2[0][0]           \n",
      "__________________________________________________________________________________________________\n",
      "Activation (Dense)              (None, 1)            21          FullyConnected-3[0][0]           \n",
      "==================================================================================================\n",
      "Total params: 25,675\n",
      "Trainable params: 25,675\n",
      "Non-trainable params: 0\n",
      "__________________________________________________________________________________________________\n"
     ]
    }
   ],
   "source": [
    "model.summary()"
   ]
  },
  {
   "cell_type": "code",
   "execution_count": 53,
   "metadata": {},
   "outputs": [
    {
     "name": "stdout",
     "output_type": "stream",
     "text": [
      "WARNING:tensorflow:Falling back from v2 loop because of error: Failed to find data adapter that can handle input: (<class 'list'> containing values of types {\"<class 'pandas.core.series.Series'>\"}), <class 'NoneType'>\n",
      "Train on 80000 samples\n",
      "Epoch 1/100\n",
      "80000/80000 [==============================] - 4s 54us/sample - loss: 0.8226\n",
      "Epoch 2/100\n",
      "80000/80000 [==============================] - 4s 48us/sample - loss: 0.7676\n",
      "Epoch 3/100\n",
      "80000/80000 [==============================] - 4s 48us/sample - loss: 0.7535\n",
      "Epoch 4/100\n",
      "80000/80000 [==============================] - 4s 48us/sample - loss: 0.7431\n",
      "Epoch 5/100\n",
      "80000/80000 [==============================] - 4s 48us/sample - loss: 0.7337\n",
      "Epoch 6/100\n",
      "80000/80000 [==============================] - 4s 48us/sample - loss: 0.7295\n",
      "Epoch 7/100\n",
      "80000/80000 [==============================] - 4s 48us/sample - loss: 0.7241\n",
      "Epoch 8/100\n",
      "80000/80000 [==============================] - 4s 48us/sample - loss: 0.7212\n",
      "Epoch 9/100\n",
      "80000/80000 [==============================] - 4s 48us/sample - loss: 0.7195\n",
      "Epoch 10/100\n",
      "80000/80000 [==============================] - 4s 49us/sample - loss: 0.7176\n",
      "Epoch 11/100\n",
      "80000/80000 [==============================] - 4s 48us/sample - loss: 0.7136\n",
      "Epoch 12/100\n",
      "80000/80000 [==============================] - 3s 40us/sample - loss: 0.7120\n",
      "Epoch 13/100\n",
      "80000/80000 [==============================] - 3s 32us/sample - loss: 0.7053\n",
      "Epoch 14/100\n",
      "80000/80000 [==============================] - 2s 31us/sample - loss: 0.7045\n",
      "Epoch 15/100\n",
      "80000/80000 [==============================] - 2s 31us/sample - loss: 0.6997\n",
      "Epoch 16/100\n",
      "80000/80000 [==============================] - 3s 32us/sample - loss: 0.7006\n",
      "Epoch 17/100\n",
      "80000/80000 [==============================] - 3s 32us/sample - loss: 0.6954\n",
      "Epoch 18/100\n",
      "80000/80000 [==============================] - 3s 31us/sample - loss: 0.6945\n",
      "Epoch 19/100\n",
      "80000/80000 [==============================] - 2s 31us/sample - loss: 0.6944\n",
      "Epoch 20/100\n",
      "80000/80000 [==============================] - 2s 31us/sample - loss: 0.6902\n",
      "Epoch 21/100\n",
      "80000/80000 [==============================] - 2s 31us/sample - loss: 0.6911\n",
      "Epoch 22/100\n",
      "80000/80000 [==============================] - 3s 31us/sample - loss: 0.6901\n",
      "Epoch 23/100\n",
      "80000/80000 [==============================] - 3s 32us/sample - loss: 0.6894\n",
      "Epoch 24/100\n",
      "80000/80000 [==============================] - 3s 32us/sample - loss: 0.6869\n",
      "Epoch 25/100\n",
      "80000/80000 [==============================] - 3s 32us/sample - loss: 0.6871\n",
      "Epoch 26/100\n",
      "80000/80000 [==============================] - 3s 32us/sample - loss: 0.6857\n",
      "Epoch 27/100\n",
      "80000/80000 [==============================] - 3s 32us/sample - loss: 0.6839\n",
      "Epoch 28/100\n",
      "80000/80000 [==============================] - 3s 32us/sample - loss: 0.6858\n",
      "Epoch 29/100\n",
      "80000/80000 [==============================] - 3s 32us/sample - loss: 0.6850\n",
      "Epoch 30/100\n",
      "80000/80000 [==============================] - 3s 32us/sample - loss: 0.6839\n",
      "Epoch 31/100\n",
      "80000/80000 [==============================] - 3s 32us/sample - loss: 0.6828\n",
      "Epoch 32/100\n",
      "80000/80000 [==============================] - 3s 32us/sample - loss: 0.6818\n",
      "Epoch 33/100\n",
      "80000/80000 [==============================] - 3s 32us/sample - loss: 0.6837\n",
      "Epoch 34/100\n",
      "80000/80000 [==============================] - 3s 32us/sample - loss: 0.6801\n",
      "Epoch 35/100\n",
      "80000/80000 [==============================] - 3s 32us/sample - loss: 0.6810\n",
      "Epoch 36/100\n",
      "80000/80000 [==============================] - 3s 32us/sample - loss: 0.6801\n",
      "Epoch 37/100\n",
      "80000/80000 [==============================] - 3s 32us/sample - loss: 0.6809\n",
      "Epoch 38/100\n",
      "80000/80000 [==============================] - 3s 32us/sample - loss: 0.6782\n",
      "Epoch 39/100\n",
      "80000/80000 [==============================] - 3s 32us/sample - loss: 0.6795\n",
      "Epoch 40/100\n",
      "80000/80000 [==============================] - 3s 32us/sample - loss: 0.6806\n",
      "Epoch 41/100\n",
      "80000/80000 [==============================] - 3s 32us/sample - loss: 0.6795\n",
      "Epoch 42/100\n",
      "80000/80000 [==============================] - 3s 32us/sample - loss: 0.6802\n",
      "Epoch 43/100\n",
      "80000/80000 [==============================] - 3s 32us/sample - loss: 0.6775\n",
      "Epoch 44/100\n",
      "80000/80000 [==============================] - 3s 32us/sample - loss: 0.6790\n",
      "Epoch 45/100\n",
      "80000/80000 [==============================] - 3s 32us/sample - loss: 0.6792\n",
      "Epoch 46/100\n",
      "80000/80000 [==============================] - 3s 32us/sample - loss: 0.6792\n",
      "Epoch 47/100\n",
      "80000/80000 [==============================] - 3s 32us/sample - loss: 0.6782\n",
      "Epoch 48/100\n",
      "80000/80000 [==============================] - 3s 32us/sample - loss: 0.6784\n",
      "Epoch 49/100\n",
      "80000/80000 [==============================] - 3s 32us/sample - loss: 0.6785\n",
      "Epoch 50/100\n",
      "80000/80000 [==============================] - 3s 32us/sample - loss: 0.6760\n",
      "Epoch 51/100\n",
      "80000/80000 [==============================] - 3s 32us/sample - loss: 0.6768\n",
      "Epoch 52/100\n",
      "80000/80000 [==============================] - 3s 32us/sample - loss: 0.6757\n",
      "Epoch 53/100\n",
      "80000/80000 [==============================] - 3s 32us/sample - loss: 0.6783\n",
      "Epoch 54/100\n",
      "80000/80000 [==============================] - 3s 32us/sample - loss: 0.6755\n",
      "Epoch 55/100\n",
      "80000/80000 [==============================] - 3s 32us/sample - loss: 0.6784\n",
      "Epoch 56/100\n",
      "80000/80000 [==============================] - 3s 32us/sample - loss: 0.6779\n",
      "Epoch 57/100\n",
      "80000/80000 [==============================] - 3s 32us/sample - loss: 0.6760\n",
      "Epoch 58/100\n",
      "80000/80000 [==============================] - 3s 32us/sample - loss: 0.6766\n",
      "Epoch 59/100\n",
      "80000/80000 [==============================] - 3s 32us/sample - loss: 0.6756\n",
      "Epoch 60/100\n",
      "80000/80000 [==============================] - 3s 32us/sample - loss: 0.6760\n",
      "Epoch 61/100\n",
      "80000/80000 [==============================] - 3s 32us/sample - loss: 0.6749\n",
      "Epoch 62/100\n",
      "80000/80000 [==============================] - 3s 32us/sample - loss: 0.6745\n",
      "Epoch 63/100\n",
      "80000/80000 [==============================] - 3s 32us/sample - loss: 0.6746\n",
      "Epoch 64/100\n",
      "80000/80000 [==============================] - 3s 32us/sample - loss: 0.6740\n",
      "Epoch 65/100\n",
      "80000/80000 [==============================] - 3s 32us/sample - loss: 0.6744\n",
      "Epoch 66/100\n",
      "80000/80000 [==============================] - 3s 32us/sample - loss: 0.6756\n",
      "Epoch 67/100\n",
      "80000/80000 [==============================] - 3s 32us/sample - loss: 0.6741\n",
      "Epoch 68/100\n",
      "80000/80000 [==============================] - 3s 32us/sample - loss: 0.6757\n",
      "Epoch 69/100\n",
      "80000/80000 [==============================] - 3s 32us/sample - loss: 0.6753\n",
      "Epoch 70/100\n",
      "80000/80000 [==============================] - 3s 32us/sample - loss: 0.6752\n",
      "Epoch 71/100\n",
      "80000/80000 [==============================] - 3s 32us/sample - loss: 0.6745\n",
      "Epoch 72/100\n",
      "80000/80000 [==============================] - 3s 32us/sample - loss: 0.6732\n",
      "Epoch 73/100\n",
      "80000/80000 [==============================] - 3s 32us/sample - loss: 0.6730\n",
      "Epoch 74/100\n",
      "80000/80000 [==============================] - 3s 32us/sample - loss: 0.6740\n",
      "Epoch 75/100\n",
      "80000/80000 [==============================] - 3s 32us/sample - loss: 0.67430s - loss: \n",
      "Epoch 76/100\n",
      "80000/80000 [==============================] - 3s 33us/sample - loss: 0.6745\n",
      "Epoch 77/100\n",
      "80000/80000 [==============================] - 3s 32us/sample - loss: 0.6761\n",
      "Epoch 78/100\n",
      "80000/80000 [==============================] - 3s 32us/sample - loss: 0.6739\n",
      "Epoch 79/100\n",
      "80000/80000 [==============================] - 3s 32us/sample - loss: 0.6741\n",
      "Epoch 80/100\n",
      "80000/80000 [==============================] - 3s 32us/sample - loss: 0.6746\n",
      "Epoch 81/100\n",
      "80000/80000 [==============================] - 3s 32us/sample - loss: 0.6730\n",
      "Epoch 82/100\n",
      "80000/80000 [==============================] - 3s 32us/sample - loss: 0.6750\n",
      "Epoch 83/100\n",
      "80000/80000 [==============================] - 3s 32us/sample - loss: 0.6750\n",
      "Epoch 84/100\n",
      "80000/80000 [==============================] - 3s 32us/sample - loss: 0.6731\n",
      "Epoch 85/100\n",
      "80000/80000 [==============================] - 3s 32us/sample - loss: 0.6739\n",
      "Epoch 86/100\n",
      "80000/80000 [==============================] - 3s 32us/sample - loss: 0.6714\n",
      "Epoch 87/100\n",
      "80000/80000 [==============================] - 3s 32us/sample - loss: 0.6748\n",
      "Epoch 88/100\n",
      "80000/80000 [==============================] - 3s 32us/sample - loss: 0.6732\n",
      "Epoch 89/100\n"
     ]
    },
    {
     "name": "stdout",
     "output_type": "stream",
     "text": [
      "80000/80000 [==============================] - 3s 32us/sample - loss: 0.6722\n",
      "Epoch 90/100\n",
      "80000/80000 [==============================] - 3s 32us/sample - loss: 0.6760\n",
      "Epoch 91/100\n",
      "80000/80000 [==============================] - 3s 32us/sample - loss: 0.6738\n",
      "Epoch 92/100\n",
      "80000/80000 [==============================] - 3s 32us/sample - loss: 0.6746\n",
      "Epoch 93/100\n",
      "80000/80000 [==============================] - 3s 32us/sample - loss: 0.6735\n",
      "Epoch 94/100\n",
      "80000/80000 [==============================] - 3s 32us/sample - loss: 0.6718\n",
      "Epoch 95/100\n",
      "80000/80000 [==============================] - 3s 32us/sample - loss: 0.6718\n",
      "Epoch 96/100\n",
      "80000/80000 [==============================] - 3s 32us/sample - loss: 0.6741\n",
      "Epoch 97/100\n",
      "80000/80000 [==============================] - 3s 32us/sample - loss: 0.6738\n",
      "Epoch 98/100\n",
      "80000/80000 [==============================] - 3s 32us/sample - loss: 0.6715\n",
      "Epoch 99/100\n",
      "80000/80000 [==============================] - 3s 32us/sample - loss: 0.6736\n",
      "Epoch 100/100\n",
      "80000/80000 [==============================] - 3s 32us/sample - loss: 0.6739\n"
     ]
    }
   ],
   "source": [
    "history = model.fit([train.user_id, train.item_id], train.rating, epochs=100, verbose=1)"
   ]
  },
  {
   "cell_type": "code",
   "execution_count": 54,
   "metadata": {},
   "outputs": [
    {
     "name": "stdout",
     "output_type": "stream",
     "text": [
      "WARNING:tensorflow:Falling back from v2 loop because of error: Failed to find data adapter that can handle input: (<class 'list'> containing values of types {\"<class 'pandas.core.series.Series'>\"}), <class 'NoneType'>\n",
      "0.6964\n"
     ]
    }
   ],
   "source": [
    "y_hat_2 = np.round(model.predict([test.user_id, test.item_id]),0)\n",
    "print(mean_absolute_error(y_true, y_hat_2))"
   ]
  },
  {
   "cell_type": "code",
   "execution_count": null,
   "metadata": {},
   "outputs": [],
   "source": []
  }
 ],
 "metadata": {
  "kernelspec": {
   "display_name": "Python 3",
   "language": "python",
   "name": "python3"
  },
  "language_info": {
   "codemirror_mode": {
    "name": "ipython",
    "version": 3
   },
   "file_extension": ".py",
   "mimetype": "text/x-python",
   "name": "python",
   "nbconvert_exporter": "python",
   "pygments_lexer": "ipython3",
   "version": "3.7.6"
  }
 },
 "nbformat": 4,
 "nbformat_minor": 2
}
